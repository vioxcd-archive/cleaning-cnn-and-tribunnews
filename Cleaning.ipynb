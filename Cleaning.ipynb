{
 "cells": [
  {
   "cell_type": "code",
   "execution_count": 1,
   "metadata": {},
   "outputs": [],
   "source": [
    "import os\n",
    "import re\n",
    "import json\n",
    "\n",
    "import pandas as pd"
   ]
  },
  {
   "cell_type": "code",
   "execution_count": 2,
   "metadata": {},
   "outputs": [],
   "source": [
    "FOLDER_PATH = '/home/uchan/code/fun/cnn-tribun-scraper/dump'\n",
    "CNN_DUMP = os.path.join(FOLDER_PATH, 'cnn', 'articles')\n",
    "TRIBUN_DUMP = os.path.join(FOLDER_PATH, 'tribun')"
   ]
  },
  {
   "cell_type": "code",
   "execution_count": 3,
   "metadata": {},
   "outputs": [
    {
     "data": {
      "text/plain": [
       "['20210501.json', '20210502.json']"
      ]
     },
     "execution_count": 3,
     "metadata": {},
     "output_type": "execute_result"
    }
   ],
   "source": [
    "os.listdir(CNN_DUMP)"
   ]
  },
  {
   "cell_type": "code",
   "execution_count": 4,
   "metadata": {},
   "outputs": [
    {
     "data": {
      "text/plain": [
       "['2021-5-3-35.json',\n",
       " '2021-5-3-14.json',\n",
       " '2021-5-2-9.json',\n",
       " '2021-5-1-46.json',\n",
       " '2021-5-1-7.json',\n",
       " '2021-5-3-30.json',\n",
       " '2021-5-1-36.json',\n",
       " '2021-5-1-30.json',\n",
       " '2021-5-3-34.json',\n",
       " '2021-5-3-15.json']"
      ]
     },
     "execution_count": 4,
     "metadata": {},
     "output_type": "execute_result"
    }
   ],
   "source": [
    "os.listdir(TRIBUN_DUMP)[:10]"
   ]
  },
  {
   "cell_type": "code",
   "execution_count": 5,
   "metadata": {},
   "outputs": [
    {
     "data": {
      "text/html": [
       "<div>\n",
       "<style scoped>\n",
       "    .dataframe tbody tr th:only-of-type {\n",
       "        vertical-align: middle;\n",
       "    }\n",
       "\n",
       "    .dataframe tbody tr th {\n",
       "        vertical-align: top;\n",
       "    }\n",
       "\n",
       "    .dataframe thead th {\n",
       "        text-align: right;\n",
       "    }\n",
       "</style>\n",
       "<table border=\"1\" class=\"dataframe\">\n",
       "  <thead>\n",
       "    <tr style=\"text-align: right;\">\n",
       "      <th></th>\n",
       "      <th>title</th>\n",
       "      <th>date</th>\n",
       "      <th>content</th>\n",
       "      <th>related_topic</th>\n",
       "      <th>link</th>\n",
       "    </tr>\n",
       "  </thead>\n",
       "  <tbody>\n",
       "    <tr>\n",
       "      <td>0</td>\n",
       "      <td>14 Peserta Aksi May Day di Medan Ditangkap Polisi</td>\n",
       "      <td>Sabtu, 01/05/2021 23:44 WIB</td>\n",
       "      <td>[Aksi unjuk rasa memperingati Hari Buruh Inter...</td>\n",
       "      <td>[mayday, hari buruh, may day, medan, berita da...</td>\n",
       "      <td>https://www.cnnindonesia.com/nasional/20210501...</td>\n",
       "    </tr>\n",
       "    <tr>\n",
       "      <td>1</td>\n",
       "      <td>Hasil Liga Spanyol: Atletico Kalahkan Elche 1-0</td>\n",
       "      <td>Sabtu, 01/05/2021 23:16 WIB</td>\n",
       "      <td>[Atletico Madrid menang tipis 1-0 atas Elche d...</td>\n",
       "      <td>[atletico madrid, atletico madrid, elche vs at...</td>\n",
       "      <td>https://www.cnnindonesia.com/olahraga/20210501...</td>\n",
       "    </tr>\n",
       "    <tr>\n",
       "      <td>2</td>\n",
       "      <td>Kepala KF Kualanamu Tersangka Antigen Bangun R...</td>\n",
       "      <td>Sabtu, 01/05/2021 22:59 WIB</td>\n",
       "      <td>[Kepala Layanan Kimia Farma Diagnostik Bandara...</td>\n",
       "      <td>[antigen bekas, tes antigen bekas, antigen bek...</td>\n",
       "      <td>https://www.cnnindonesia.com/nasional/20210501...</td>\n",
       "    </tr>\n",
       "    <tr>\n",
       "      <td>3</td>\n",
       "      <td>Marquez Cedera Punggung Usai Kecelakaan di Mot...</td>\n",
       "      <td>Sabtu, 01/05/2021 22:22 WIB</td>\n",
       "      <td>[Pembalap Repsol Honda Marc Marquez disebut me...</td>\n",
       "      <td>[marc marquez, motogp spanyol 2021, motogp spa...</td>\n",
       "      <td>https://www.cnnindonesia.com/olahraga/20210501...</td>\n",
       "    </tr>\n",
       "    <tr>\n",
       "      <td>4</td>\n",
       "      <td>Bantu Ganti Ban Pecah, 3 Sopir Tewas Tertimpa ...</td>\n",
       "      <td>Sabtu, 01/05/2021 21:45 WIB</td>\n",
       "      <td>[Tiga orang tewas seketika akibat tertimpa bad...</td>\n",
       "      <td>[kecelakaan, cipularang, truk, tol cipularang,...</td>\n",
       "      <td>https://www.cnnindonesia.com/nasional/20210501...</td>\n",
       "    </tr>\n",
       "    <tr>\n",
       "      <td>5</td>\n",
       "      <td>Sinyal Kuat Marquez Terpuruk di MotoGP Spanyol</td>\n",
       "      <td>Sabtu, 01/05/2021 21:39 WIB</td>\n",
       "      <td>[Marc Marquez belum juga mencapai performa ter...</td>\n",
       "      <td>[marc marquez, motogp, motogp spanyol, motogp ...</td>\n",
       "      <td>https://www.cnnindonesia.com/olahraga/20210501...</td>\n",
       "    </tr>\n",
       "    <tr>\n",
       "      <td>6</td>\n",
       "      <td>Indonesia Pulangkan Nelayan Aceh yang Ditahan ...</td>\n",
       "      <td>Sabtu, 01/05/2021 21:18 WIB</td>\n",
       "      <td>[Kementerian Luar Negeri telah melaksanakan se...</td>\n",
       "      <td>[myanmar, wni, nelayan aceh, nelayan aceh dita...</td>\n",
       "      <td>https://www.cnnindonesia.com/internasional/202...</td>\n",
       "    </tr>\n",
       "    <tr>\n",
       "      <td>7</td>\n",
       "      <td>Kebakaran Pondok Pesantren di Sulsel, Asrama H...</td>\n",
       "      <td>Sabtu, 01/05/2021 20:43 WIB</td>\n",
       "      <td>[Pondok Pesantren Umar Bin Abdul Aziz Wahdah I...</td>\n",
       "      <td>[berita daerah, makassar, pesantren, kebakaran]</td>\n",
       "      <td>https://www.cnnindonesia.com/nasional/20210501...</td>\n",
       "    </tr>\n",
       "    <tr>\n",
       "      <td>8</td>\n",
       "      <td>Hasil Liga Inggris: Man City Kalahkan Crystal ...</td>\n",
       "      <td>Sabtu, 01/05/2021 20:38 WIB</td>\n",
       "      <td>[Manchester City berhasil memetik kemenangan 2...</td>\n",
       "      <td>[manchester city, crystal palace, liga inggris...</td>\n",
       "      <td>https://www.cnnindonesia.com/olahraga/20210501...</td>\n",
       "    </tr>\n",
       "    <tr>\n",
       "      <td>9</td>\n",
       "      <td>97 Orang Ditangkap Saat Demo Hari Buruh di Jak...</td>\n",
       "      <td>Sabtu, 01/05/2021 20:33 WIB</td>\n",
       "      <td>[Sebanyak 97 orang ditangkap saat aksi peringa...</td>\n",
       "      <td>[buruh, hari buruh, demo buruh, may day]</td>\n",
       "      <td>https://www.cnnindonesia.com/nasional/20210501...</td>\n",
       "    </tr>\n",
       "  </tbody>\n",
       "</table>\n",
       "</div>"
      ],
      "text/plain": [
       "                                               title  \\\n",
       "0  14 Peserta Aksi May Day di Medan Ditangkap Polisi   \n",
       "1    Hasil Liga Spanyol: Atletico Kalahkan Elche 1-0   \n",
       "2  Kepala KF Kualanamu Tersangka Antigen Bangun R...   \n",
       "3  Marquez Cedera Punggung Usai Kecelakaan di Mot...   \n",
       "4  Bantu Ganti Ban Pecah, 3 Sopir Tewas Tertimpa ...   \n",
       "5     Sinyal Kuat Marquez Terpuruk di MotoGP Spanyol   \n",
       "6  Indonesia Pulangkan Nelayan Aceh yang Ditahan ...   \n",
       "7  Kebakaran Pondok Pesantren di Sulsel, Asrama H...   \n",
       "8  Hasil Liga Inggris: Man City Kalahkan Crystal ...   \n",
       "9  97 Orang Ditangkap Saat Demo Hari Buruh di Jak...   \n",
       "\n",
       "                          date  \\\n",
       "0  Sabtu, 01/05/2021 23:44 WIB   \n",
       "1  Sabtu, 01/05/2021 23:16 WIB   \n",
       "2  Sabtu, 01/05/2021 22:59 WIB   \n",
       "3  Sabtu, 01/05/2021 22:22 WIB   \n",
       "4  Sabtu, 01/05/2021 21:45 WIB   \n",
       "5  Sabtu, 01/05/2021 21:39 WIB   \n",
       "6  Sabtu, 01/05/2021 21:18 WIB   \n",
       "7  Sabtu, 01/05/2021 20:43 WIB   \n",
       "8  Sabtu, 01/05/2021 20:38 WIB   \n",
       "9  Sabtu, 01/05/2021 20:33 WIB   \n",
       "\n",
       "                                             content  \\\n",
       "0  [Aksi unjuk rasa memperingati Hari Buruh Inter...   \n",
       "1  [Atletico Madrid menang tipis 1-0 atas Elche d...   \n",
       "2  [Kepala Layanan Kimia Farma Diagnostik Bandara...   \n",
       "3  [Pembalap Repsol Honda Marc Marquez disebut me...   \n",
       "4  [Tiga orang tewas seketika akibat tertimpa bad...   \n",
       "5  [Marc Marquez belum juga mencapai performa ter...   \n",
       "6  [Kementerian Luar Negeri telah melaksanakan se...   \n",
       "7  [Pondok Pesantren Umar Bin Abdul Aziz Wahdah I...   \n",
       "8  [Manchester City berhasil memetik kemenangan 2...   \n",
       "9  [Sebanyak 97 orang ditangkap saat aksi peringa...   \n",
       "\n",
       "                                       related_topic  \\\n",
       "0  [mayday, hari buruh, may day, medan, berita da...   \n",
       "1  [atletico madrid, atletico madrid, elche vs at...   \n",
       "2  [antigen bekas, tes antigen bekas, antigen bek...   \n",
       "3  [marc marquez, motogp spanyol 2021, motogp spa...   \n",
       "4  [kecelakaan, cipularang, truk, tol cipularang,...   \n",
       "5  [marc marquez, motogp, motogp spanyol, motogp ...   \n",
       "6  [myanmar, wni, nelayan aceh, nelayan aceh dita...   \n",
       "7    [berita daerah, makassar, pesantren, kebakaran]   \n",
       "8  [manchester city, crystal palace, liga inggris...   \n",
       "9           [buruh, hari buruh, demo buruh, may day]   \n",
       "\n",
       "                                                link  \n",
       "0  https://www.cnnindonesia.com/nasional/20210501...  \n",
       "1  https://www.cnnindonesia.com/olahraga/20210501...  \n",
       "2  https://www.cnnindonesia.com/nasional/20210501...  \n",
       "3  https://www.cnnindonesia.com/olahraga/20210501...  \n",
       "4  https://www.cnnindonesia.com/nasional/20210501...  \n",
       "5  https://www.cnnindonesia.com/olahraga/20210501...  \n",
       "6  https://www.cnnindonesia.com/internasional/202...  \n",
       "7  https://www.cnnindonesia.com/nasional/20210501...  \n",
       "8  https://www.cnnindonesia.com/olahraga/20210501...  \n",
       "9  https://www.cnnindonesia.com/nasional/20210501...  "
      ]
     },
     "execution_count": 5,
     "metadata": {},
     "output_type": "execute_result"
    }
   ],
   "source": [
    "# reading sample CNN dumps\n",
    "cnn = pd.read_json(f'{CNN_DUMP}/20210501.json')\n",
    "cnn.head(10)"
   ]
  },
  {
   "cell_type": "code",
   "execution_count": 6,
   "metadata": {},
   "outputs": [
    {
     "data": {
      "text/html": [
       "<div>\n",
       "<style scoped>\n",
       "    .dataframe tbody tr th:only-of-type {\n",
       "        vertical-align: middle;\n",
       "    }\n",
       "\n",
       "    .dataframe tbody tr th {\n",
       "        vertical-align: top;\n",
       "    }\n",
       "\n",
       "    .dataframe thead th {\n",
       "        text-align: right;\n",
       "    }\n",
       "</style>\n",
       "<table border=\"1\" class=\"dataframe\">\n",
       "  <thead>\n",
       "    <tr style=\"text-align: right;\">\n",
       "      <th></th>\n",
       "      <th>topic</th>\n",
       "      <th>title</th>\n",
       "      <th>date_published</th>\n",
       "      <th>content</th>\n",
       "      <th>tags</th>\n",
       "      <th>link</th>\n",
       "    </tr>\n",
       "  </thead>\n",
       "  <tbody>\n",
       "    <tr>\n",
       "      <td>0</td>\n",
       "      <td>None</td>\n",
       "      <td>Kapan Waktu Terbaik Bersihkan Rice Cooker? Ber...</td>\n",
       "      <td>Sabtu, 1 Mei 2021 17:30 WIB</td>\n",
       "      <td>[  , Parapuan.co – Kawan Puan, kapan terakhir ...</td>\n",
       "      <td>[rice cooker, membersihkan rice cooker]</td>\n",
       "      <td>https://www.tribunnews.com/parapuan/2021/05/03...</td>\n",
       "    </tr>\n",
       "    <tr>\n",
       "      <td>1</td>\n",
       "      <td>None</td>\n",
       "      <td>Demi Bantu India Lawan Krisis Covid-19, Priyan...</td>\n",
       "      <td>Sabtu, 1 Mei 2021 18:15 WIB</td>\n",
       "      <td>[  , Parapuan.co – Beberapa waktu belakangan, ...</td>\n",
       "      <td>[India, Priyanka Chopra, Nick Jonas, Covid-19 ...</td>\n",
       "      <td>https://www.tribunnews.com/parapuan/2021/05/03...</td>\n",
       "    </tr>\n",
       "    <tr>\n",
       "      <td>2</td>\n",
       "      <td>None</td>\n",
       "      <td>Nyeri Tulang dan Gampang Lelah, Waspadai Tanda...</td>\n",
       "      <td>Sabtu, 1 Mei 2021 18:45 WIB</td>\n",
       "      <td>[  , Parapuan.co - Vitamin D dalam tubuh berpe...</td>\n",
       "      <td>[vitamin, vitamin D, rambut rontok, mudah lela...</td>\n",
       "      <td>https://www.tribunnews.com/parapuan/2021/05/02...</td>\n",
       "    </tr>\n",
       "    <tr>\n",
       "      <td>3</td>\n",
       "      <td>None</td>\n",
       "      <td>Pemerintah Dukung Generasi Muda dan Talenta In...</td>\n",
       "      <td>Sabtu, 1 Mei 2021 19:26 WIB</td>\n",
       "      <td>[  , Parapuan.co - Pandemi yang telah terjadi ...</td>\n",
       "      <td>[Agnezmo, Industri hiburan, Eventori]</td>\n",
       "      <td>https://www.tribunnews.com/parapuan/2021/05/02...</td>\n",
       "    </tr>\n",
       "    <tr>\n",
       "      <td>4</td>\n",
       "      <td>None</td>\n",
       "      <td>Selain Ciptakan Suasana Kooperatif, Ini Cara L...</td>\n",
       "      <td>Sabtu, 1 Mei 2021 20:10 WIB</td>\n",
       "      <td>[  , Parapuan.co – Kawan Puan, ketika kamu mem...</td>\n",
       "      <td>[anak, pertengkaran anak, mencegah pertengkara...</td>\n",
       "      <td>https://www.tribunnews.com/parapuan/2021/05/02...</td>\n",
       "    </tr>\n",
       "    <tr>\n",
       "      <td>5</td>\n",
       "      <td>None</td>\n",
       "      <td>Berbuka dengan Es Teh Manis Sebaiknya Dihindar...</td>\n",
       "      <td>Sabtu, 1 Mei 2021 20:25 WIB</td>\n",
       "      <td>[  , Parapuan.co – Kawan Puan, apakah minuman ...</td>\n",
       "      <td>[Es Teh Manis, minum es teh saat buka puasa]</td>\n",
       "      <td>https://www.tribunnews.com/parapuan/2021/05/02...</td>\n",
       "    </tr>\n",
       "    <tr>\n",
       "      <td>6</td>\n",
       "      <td>None</td>\n",
       "      <td>Komnas Perempuan Ajukan 6 Tuntutan untuk Lindu...</td>\n",
       "      <td>Sabtu, 1 Mei 2021 20:45 WIB</td>\n",
       "      <td>[  , Parapuan.co - Peringatan Hari Buruh Inter...</td>\n",
       "      <td>[buruh, May Day, Hari Buruh Internasional, pek...</td>\n",
       "      <td>https://www.tribunnews.com/parapuan/2021/05/02...</td>\n",
       "    </tr>\n",
       "    <tr>\n",
       "      <td>7</td>\n",
       "      <td>None</td>\n",
       "      <td>Anak Suka Susah Tidur Malam? Begini Cara Membi...</td>\n",
       "      <td>Sabtu, 1 Mei 2021 21:30 WIB</td>\n",
       "      <td>[  , Parapuan.co – Kawan Puan, apakah kamu ser...</td>\n",
       "      <td>[anak tidur, tidur malam, membiasakan anak tid...</td>\n",
       "      <td>https://www.tribunnews.com/parapuan/2021/05/02...</td>\n",
       "    </tr>\n",
       "    <tr>\n",
       "      <td>8</td>\n",
       "      <td>\\nLiga Italia\\n</td>\n",
       "      <td>HASIL Crotone vs Inter Milan Liga Italia Babak...</td>\n",
       "      <td>Sabtu, 1 Mei 2021 23:55 WIB</td>\n",
       "      <td>[TRIBUNNEWS.COM - Hasil babak pertama Crotone ...</td>\n",
       "      <td>[Hasil Crotone vs Inter Milan, Crotone vs Inte...</td>\n",
       "      <td>https://www.tribunnews.com/superskor/2021/05/0...</td>\n",
       "    </tr>\n",
       "    <tr>\n",
       "      <td>9</td>\n",
       "      <td>\\nMotoGP\\n</td>\n",
       "      <td>SIARAN LANGSUNG RACE MotoGP Spanyol 2021: Fabi...</td>\n",
       "      <td>Sabtu, 1 Mei 2021 23:44 WIB</td>\n",
       "      <td>[TRIBUNNEWS.COM - Siaran langsung race MotoGP ...</td>\n",
       "      <td>[SIARAN LANGSUNG RACE MotoGP Spanyol 2021, Mot...</td>\n",
       "      <td>https://www.tribunnews.com/sport/2021/05/01/si...</td>\n",
       "    </tr>\n",
       "  </tbody>\n",
       "</table>\n",
       "</div>"
      ],
      "text/plain": [
       "             topic                                              title  \\\n",
       "0             None  Kapan Waktu Terbaik Bersihkan Rice Cooker? Ber...   \n",
       "1             None  Demi Bantu India Lawan Krisis Covid-19, Priyan...   \n",
       "2             None  Nyeri Tulang dan Gampang Lelah, Waspadai Tanda...   \n",
       "3             None  Pemerintah Dukung Generasi Muda dan Talenta In...   \n",
       "4             None  Selain Ciptakan Suasana Kooperatif, Ini Cara L...   \n",
       "5             None  Berbuka dengan Es Teh Manis Sebaiknya Dihindar...   \n",
       "6             None  Komnas Perempuan Ajukan 6 Tuntutan untuk Lindu...   \n",
       "7             None  Anak Suka Susah Tidur Malam? Begini Cara Membi...   \n",
       "8  \\nLiga Italia\\n  HASIL Crotone vs Inter Milan Liga Italia Babak...   \n",
       "9       \\nMotoGP\\n  SIARAN LANGSUNG RACE MotoGP Spanyol 2021: Fabi...   \n",
       "\n",
       "                date_published  \\\n",
       "0  Sabtu, 1 Mei 2021 17:30 WIB   \n",
       "1  Sabtu, 1 Mei 2021 18:15 WIB   \n",
       "2  Sabtu, 1 Mei 2021 18:45 WIB   \n",
       "3  Sabtu, 1 Mei 2021 19:26 WIB   \n",
       "4  Sabtu, 1 Mei 2021 20:10 WIB   \n",
       "5  Sabtu, 1 Mei 2021 20:25 WIB   \n",
       "6  Sabtu, 1 Mei 2021 20:45 WIB   \n",
       "7  Sabtu, 1 Mei 2021 21:30 WIB   \n",
       "8  Sabtu, 1 Mei 2021 23:55 WIB   \n",
       "9  Sabtu, 1 Mei 2021 23:44 WIB   \n",
       "\n",
       "                                             content  \\\n",
       "0  [  , Parapuan.co – Kawan Puan, kapan terakhir ...   \n",
       "1  [  , Parapuan.co – Beberapa waktu belakangan, ...   \n",
       "2  [  , Parapuan.co - Vitamin D dalam tubuh berpe...   \n",
       "3  [  , Parapuan.co - Pandemi yang telah terjadi ...   \n",
       "4  [  , Parapuan.co – Kawan Puan, ketika kamu mem...   \n",
       "5  [  , Parapuan.co – Kawan Puan, apakah minuman ...   \n",
       "6  [  , Parapuan.co - Peringatan Hari Buruh Inter...   \n",
       "7  [  , Parapuan.co – Kawan Puan, apakah kamu ser...   \n",
       "8  [TRIBUNNEWS.COM - Hasil babak pertama Crotone ...   \n",
       "9  [TRIBUNNEWS.COM - Siaran langsung race MotoGP ...   \n",
       "\n",
       "                                                tags  \\\n",
       "0            [rice cooker, membersihkan rice cooker]   \n",
       "1  [India, Priyanka Chopra, Nick Jonas, Covid-19 ...   \n",
       "2  [vitamin, vitamin D, rambut rontok, mudah lela...   \n",
       "3              [Agnezmo, Industri hiburan, Eventori]   \n",
       "4  [anak, pertengkaran anak, mencegah pertengkara...   \n",
       "5       [Es Teh Manis, minum es teh saat buka puasa]   \n",
       "6  [buruh, May Day, Hari Buruh Internasional, pek...   \n",
       "7  [anak tidur, tidur malam, membiasakan anak tid...   \n",
       "8  [Hasil Crotone vs Inter Milan, Crotone vs Inte...   \n",
       "9  [SIARAN LANGSUNG RACE MotoGP Spanyol 2021, Mot...   \n",
       "\n",
       "                                                link  \n",
       "0  https://www.tribunnews.com/parapuan/2021/05/03...  \n",
       "1  https://www.tribunnews.com/parapuan/2021/05/03...  \n",
       "2  https://www.tribunnews.com/parapuan/2021/05/02...  \n",
       "3  https://www.tribunnews.com/parapuan/2021/05/02...  \n",
       "4  https://www.tribunnews.com/parapuan/2021/05/02...  \n",
       "5  https://www.tribunnews.com/parapuan/2021/05/02...  \n",
       "6  https://www.tribunnews.com/parapuan/2021/05/02...  \n",
       "7  https://www.tribunnews.com/parapuan/2021/05/02...  \n",
       "8  https://www.tribunnews.com/superskor/2021/05/0...  \n",
       "9  https://www.tribunnews.com/sport/2021/05/01/si...  "
      ]
     },
     "execution_count": 6,
     "metadata": {},
     "output_type": "execute_result"
    }
   ],
   "source": [
    "# reading sample Tribun dumps\n",
    "tribun = pd.read_json(f'{TRIBUN_DUMP}/2021-5-1-1.json')\n",
    "tribun.head(10)"
   ]
  },
  {
   "cell_type": "markdown",
   "metadata": {},
   "source": [
    "##### Load all data"
   ]
  },
  {
   "cell_type": "code",
   "execution_count": 7,
   "metadata": {},
   "outputs": [],
   "source": [
    "# all file paths\n",
    "cnn_paths = [os.path.join(CNN_DUMP, file_) for file_ in os.listdir(CNN_DUMP)]\n",
    "tribun_paths = [os.path.join(TRIBUN_DUMP, file_) for file_ in os.listdir(TRIBUN_DUMP)]"
   ]
  },
  {
   "cell_type": "code",
   "execution_count": 8,
   "metadata": {},
   "outputs": [
    {
     "data": {
      "text/plain": [
       "(200, 5)"
      ]
     },
     "execution_count": 8,
     "metadata": {},
     "output_type": "execute_result"
    }
   ],
   "source": [
    "cnn = pd.DataFrame()\n",
    "\n",
    "for path in cnn_paths:\n",
    "    tmp = pd.read_json(path)\n",
    "    cnn = cnn.append(tmp)\n",
    "\n",
    "cnn.shape"
   ]
  },
  {
   "cell_type": "code",
   "execution_count": 9,
   "metadata": {},
   "outputs": [
    {
     "data": {
      "text/plain": [
       "(2248, 6)"
      ]
     },
     "execution_count": 9,
     "metadata": {},
     "output_type": "execute_result"
    }
   ],
   "source": [
    "tribun = pd.DataFrame()\n",
    "\n",
    "for path in tribun_paths:\n",
    "    tmp = pd.read_json(path)\n",
    "    tribun = tribun.append(tmp)\n",
    "\n",
    "tribun.shape"
   ]
  },
  {
   "cell_type": "code",
   "execution_count": 10,
   "metadata": {},
   "outputs": [],
   "source": [
    "# reset index to handle .loc[0] error\n",
    "cnn.reset_index(drop=True, inplace=True)\n",
    "tribun.reset_index(drop=True, inplace=True)"
   ]
  },
  {
   "cell_type": "markdown",
   "metadata": {},
   "source": [
    "---"
   ]
  },
  {
   "cell_type": "markdown",
   "metadata": {},
   "source": [
    "#### Cleaning untuk Widi\n",
    "\n",
    "cuma perlu kolom: 1) content untuk prediksi; 2) topic & tags untuk label\n",
    "\n",
    "TODO: 1) cleaning content, topic, tags; 2) cek zakat di topic & tags"
   ]
  },
  {
   "cell_type": "code",
   "execution_count": 11,
   "metadata": {},
   "outputs": [
    {
     "data": {
      "text/plain": [
       "(Index(['index', 'title', 'date', 'content', 'related_topic', 'link'], dtype='object'),\n",
       " Index(['index', 'topic', 'title', 'date_published', 'content', 'tags', 'link'], dtype='object'))"
      ]
     },
     "execution_count": 11,
     "metadata": {},
     "output_type": "execute_result"
    }
   ],
   "source": [
    "# check which columns to drop\n",
    "cnn.columns, tribun.columns"
   ]
  },
  {
   "cell_type": "code",
   "execution_count": 12,
   "metadata": {},
   "outputs": [],
   "source": [
    "# drop columns\n",
    "cnn.drop(columns=['date', 'link'], inplace=True)\n",
    "tribun.drop(columns=['date_published', 'link'], inplace=True)"
   ]
  },
  {
   "cell_type": "code",
   "execution_count": 13,
   "metadata": {},
   "outputs": [
    {
     "data": {
      "text/html": [
       "<div>\n",
       "<style scoped>\n",
       "    .dataframe tbody tr th:only-of-type {\n",
       "        vertical-align: middle;\n",
       "    }\n",
       "\n",
       "    .dataframe tbody tr th {\n",
       "        vertical-align: top;\n",
       "    }\n",
       "\n",
       "    .dataframe thead th {\n",
       "        text-align: right;\n",
       "    }\n",
       "</style>\n",
       "<table border=\"1\" class=\"dataframe\">\n",
       "  <thead>\n",
       "    <tr style=\"text-align: right;\">\n",
       "      <th></th>\n",
       "      <th>index</th>\n",
       "      <th>title</th>\n",
       "      <th>content</th>\n",
       "      <th>related_topic</th>\n",
       "    </tr>\n",
       "  </thead>\n",
       "  <tbody>\n",
       "    <tr>\n",
       "      <td>0</td>\n",
       "      <td>0</td>\n",
       "      <td>14 Peserta Aksi May Day di Medan Ditangkap Polisi</td>\n",
       "      <td>[Aksi unjuk rasa memperingati Hari Buruh Inter...</td>\n",
       "      <td>[mayday, hari buruh, may day, medan, berita da...</td>\n",
       "    </tr>\n",
       "  </tbody>\n",
       "</table>\n",
       "</div>"
      ],
      "text/plain": [
       "   index                                              title  \\\n",
       "0      0  14 Peserta Aksi May Day di Medan Ditangkap Polisi   \n",
       "\n",
       "                                             content  \\\n",
       "0  [Aksi unjuk rasa memperingati Hari Buruh Inter...   \n",
       "\n",
       "                                       related_topic  \n",
       "0  [mayday, hari buruh, may day, medan, berita da...  "
      ]
     },
     "execution_count": 13,
     "metadata": {},
     "output_type": "execute_result"
    }
   ],
   "source": [
    "cnn.head(1)"
   ]
  },
  {
   "cell_type": "code",
   "execution_count": 14,
   "metadata": {},
   "outputs": [
    {
     "data": {
      "text/html": [
       "<div>\n",
       "<style scoped>\n",
       "    .dataframe tbody tr th:only-of-type {\n",
       "        vertical-align: middle;\n",
       "    }\n",
       "\n",
       "    .dataframe tbody tr th {\n",
       "        vertical-align: top;\n",
       "    }\n",
       "\n",
       "    .dataframe thead th {\n",
       "        text-align: right;\n",
       "    }\n",
       "</style>\n",
       "<table border=\"1\" class=\"dataframe\">\n",
       "  <thead>\n",
       "    <tr style=\"text-align: right;\">\n",
       "      <th></th>\n",
       "      <th>index</th>\n",
       "      <th>topic</th>\n",
       "      <th>title</th>\n",
       "      <th>content</th>\n",
       "      <th>tags</th>\n",
       "    </tr>\n",
       "  </thead>\n",
       "  <tbody>\n",
       "    <tr>\n",
       "      <td>0</td>\n",
       "      <td>0</td>\n",
       "      <td>\\nRamadan 2021\\n</td>\n",
       "      <td>Tumbuhkan Nasionalisme Merupakan Strategi Wali...</td>\n",
       "      <td>[TRIBUNNEWS.COM, Jakarta - Cendekiawan Muslim ...</td>\n",
       "      <td>[Walisongo, dakwah, budaya, ngabuburit, Zuhair...</td>\n",
       "    </tr>\n",
       "  </tbody>\n",
       "</table>\n",
       "</div>"
      ],
      "text/plain": [
       "   index             topic                                              title  \\\n",
       "0      0  \\nRamadan 2021\\n  Tumbuhkan Nasionalisme Merupakan Strategi Wali...   \n",
       "\n",
       "                                             content  \\\n",
       "0  [TRIBUNNEWS.COM, Jakarta - Cendekiawan Muslim ...   \n",
       "\n",
       "                                                tags  \n",
       "0  [Walisongo, dakwah, budaya, ngabuburit, Zuhair...  "
      ]
     },
     "execution_count": 14,
     "metadata": {},
     "output_type": "execute_result"
    }
   ],
   "source": [
    "tribun.head(1)"
   ]
  },
  {
   "cell_type": "code",
   "execution_count": 15,
   "metadata": {},
   "outputs": [
    {
     "name": "stdout",
     "output_type": "stream",
     "text": [
      "index: <class 'numpy.int64'>\n",
      "title: <class 'str'>\n",
      "content: <class 'list'>\n",
      "related_topic: <class 'list'>\n"
     ]
    }
   ],
   "source": [
    "# check dtypes before combining columns\n",
    "for s in cnn.columns:\n",
    "    print(f'{s}: {type(cnn[s][0])}')"
   ]
  },
  {
   "cell_type": "code",
   "execution_count": 16,
   "metadata": {},
   "outputs": [
    {
     "name": "stdout",
     "output_type": "stream",
     "text": [
      "index: <class 'numpy.int64'>\n",
      "topic: <class 'str'>\n",
      "title: <class 'str'>\n",
      "content: <class 'list'>\n",
      "tags: <class 'list'>\n"
     ]
    }
   ],
   "source": [
    "for s in tribun.columns:\n",
    "    print(f'{s}: {type(tribun[s][0])}')"
   ]
  },
  {
   "cell_type": "markdown",
   "metadata": {},
   "source": [
    "---"
   ]
  },
  {
   "cell_type": "markdown",
   "metadata": {},
   "source": [
    "##### Join Tribun topic to its related tags"
   ]
  },
  {
   "cell_type": "code",
   "execution_count": 17,
   "metadata": {
    "scrolled": false
   },
   "outputs": [
    {
     "data": {
      "text/html": [
       "<div>\n",
       "<style scoped>\n",
       "    .dataframe tbody tr th:only-of-type {\n",
       "        vertical-align: middle;\n",
       "    }\n",
       "\n",
       "    .dataframe tbody tr th {\n",
       "        vertical-align: top;\n",
       "    }\n",
       "\n",
       "    .dataframe thead th {\n",
       "        text-align: right;\n",
       "    }\n",
       "</style>\n",
       "<table border=\"1\" class=\"dataframe\">\n",
       "  <thead>\n",
       "    <tr style=\"text-align: right;\">\n",
       "      <th></th>\n",
       "      <th>index</th>\n",
       "      <th>topic</th>\n",
       "      <th>title</th>\n",
       "      <th>content</th>\n",
       "      <th>tags</th>\n",
       "      <th>related_topic</th>\n",
       "    </tr>\n",
       "  </thead>\n",
       "  <tbody>\n",
       "    <tr>\n",
       "      <td>0</td>\n",
       "      <td>0</td>\n",
       "      <td>\\nRamadan 2021\\n</td>\n",
       "      <td>Tumbuhkan Nasionalisme Merupakan Strategi Wali...</td>\n",
       "      <td>[TRIBUNNEWS.COM, Jakarta - Cendekiawan Muslim ...</td>\n",
       "      <td>[Walisongo, dakwah, budaya, ngabuburit, Zuhair...</td>\n",
       "      <td>{budaya, Zuhairi Misrawi, Ramadan 2021, dakwah...</td>\n",
       "    </tr>\n",
       "    <tr>\n",
       "      <td>1</td>\n",
       "      <td>1</td>\n",
       "      <td>None</td>\n",
       "      <td>BREAKING NEWS: Gempa Magnitudo 5,7 Guncang Men...</td>\n",
       "      <td>[TRIBUNNEWS.COM, JAKARTA - Gempa bumi dengan k...</td>\n",
       "      <td>[Mentawai, Sumatera Barat, gempa bumi, Badan M...</td>\n",
       "      <td>{Sumatera Barat, Running News, gempa bumi, Men...</td>\n",
       "    </tr>\n",
       "    <tr>\n",
       "      <td>2</td>\n",
       "      <td>2</td>\n",
       "      <td>None</td>\n",
       "      <td>Rumah Artis Terry Putri di Pasar Minggu Dibobo...</td>\n",
       "      <td>[Laporan Wartawan Wartakotalive.com, Arie Puji...</td>\n",
       "      <td>[Jakarta Selatan, Pasar Minggu, Bandung, Pejat...</td>\n",
       "      <td>{Pejaten, Kemalingan, Terry Putri, Bandung, Pa...</td>\n",
       "    </tr>\n",
       "    <tr>\n",
       "      <td>3</td>\n",
       "      <td>3</td>\n",
       "      <td>\\nPartai Bentukan Amien Rais\\n</td>\n",
       "      <td>Sejumlah Orang yang Tergabung Organisasi Islam...</td>\n",
       "      <td>[TRIBUNNEWS.COM BANDUNG - Sejumlah orang yang ...</td>\n",
       "      <td>[Bandung, Jawa Barat, Amien Rais, Partai Ummat...</td>\n",
       "      <td>{Partai Bentukan Amien Rais, Jawa Barat, Muham...</td>\n",
       "    </tr>\n",
       "    <tr>\n",
       "      <td>4</td>\n",
       "      <td>4</td>\n",
       "      <td>\\nPenanganan Covid\\n</td>\n",
       "      <td>WHO Keluarkan Izin Penggunaan Darurat untuk Va...</td>\n",
       "      <td>[TRIBUNNEWS.COM - Organisasi Kesehatan Dunia (...</td>\n",
       "      <td>[WHO, vaksin Covid-19, Moderna, Vaksin Moderna...</td>\n",
       "      <td>{Vaksin Moderna, Moderna, Penanganan Covid, iz...</td>\n",
       "    </tr>\n",
       "    <tr>\n",
       "      <td>5</td>\n",
       "      <td>5</td>\n",
       "      <td>\\nKunci Jawaban\\n</td>\n",
       "      <td>Kunci Jawaban Tema 9 Kelas 5 SD Tematik Halama...</td>\n",
       "      <td>[TRIBUNNEWS.COM - Simak soal dan kunci jawaban...</td>\n",
       "      <td>[Kunci Jawaban Tema 9 Kelas 5 SD, KUNCI JAWABA...</td>\n",
       "      <td>{KUNCI JAWABAN Tema 9 Kelas 5 SD Halaman 105, ...</td>\n",
       "    </tr>\n",
       "    <tr>\n",
       "      <td>6</td>\n",
       "      <td>6</td>\n",
       "      <td>\\nWanita Dibakar Kekasihnya\\n</td>\n",
       "      <td>Wanita di Cidaun Cianjur Disiram Pertalite Lal...</td>\n",
       "      <td>[TRIBUNNEWS.COM, CIANJUR - Seorang wanita bern...</td>\n",
       "      <td>[Cianjur, cidaun, Jawa Barat, wanita dibakar k...</td>\n",
       "      <td>{Wanita Dibakar Kekasihnya, Cianjur, wanita di...</td>\n",
       "    </tr>\n",
       "    <tr>\n",
       "      <td>7</td>\n",
       "      <td>7</td>\n",
       "      <td>\\nPartai Bentukan Amien Rais\\n</td>\n",
       "      <td>Pidato Pertama Ridho Rahmadi sebagai Ketum Par...</td>\n",
       "      <td>[TRIBUNNEWS.COM - Resmi menjadi ketua umum Par...</td>\n",
       "      <td>[Ridho Rahmadi, Partai Bentukan Amien Rais, Am...</td>\n",
       "      <td>{Partai Bentukan Amien Rais, Ridho Rahmadi, Pa...</td>\n",
       "    </tr>\n",
       "    <tr>\n",
       "      <td>8</td>\n",
       "      <td>8</td>\n",
       "      <td>\\nLiga Italia\\n</td>\n",
       "      <td>HASIL Klasemen Liga Italia - Inter Milan Juara...</td>\n",
       "      <td>[TRIBUNNEWS.COM - Hasil klasemen Liga Italia p...</td>\n",
       "      <td>[Liga Italia, Hasil Liga Italia, Hasil Klaseme...</td>\n",
       "      <td>{Liga Champions, Inter Milan, Liga Italia, Ser...</td>\n",
       "    </tr>\n",
       "    <tr>\n",
       "      <td>9</td>\n",
       "      <td>9</td>\n",
       "      <td>None</td>\n",
       "      <td>Seorang Wanita Penghibur Jadi Korban Perampoka...</td>\n",
       "      <td>[TRIBUNNEWS, MALANG - NH (29), seorang wanita ...</td>\n",
       "      <td>[Malang, Jawa Timur, Kecamatan Lowokwaru, Komp...</td>\n",
       "      <td>{Jawa Timur, Kecamatan Lowokwaru, Malang, Komp...</td>\n",
       "    </tr>\n",
       "  </tbody>\n",
       "</table>\n",
       "</div>"
      ],
      "text/plain": [
       "   index                           topic  \\\n",
       "0      0                \\nRamadan 2021\\n   \n",
       "1      1                            None   \n",
       "2      2                            None   \n",
       "3      3  \\nPartai Bentukan Amien Rais\\n   \n",
       "4      4            \\nPenanganan Covid\\n   \n",
       "5      5               \\nKunci Jawaban\\n   \n",
       "6      6   \\nWanita Dibakar Kekasihnya\\n   \n",
       "7      7  \\nPartai Bentukan Amien Rais\\n   \n",
       "8      8                 \\nLiga Italia\\n   \n",
       "9      9                            None   \n",
       "\n",
       "                                               title  \\\n",
       "0  Tumbuhkan Nasionalisme Merupakan Strategi Wali...   \n",
       "1  BREAKING NEWS: Gempa Magnitudo 5,7 Guncang Men...   \n",
       "2  Rumah Artis Terry Putri di Pasar Minggu Dibobo...   \n",
       "3  Sejumlah Orang yang Tergabung Organisasi Islam...   \n",
       "4  WHO Keluarkan Izin Penggunaan Darurat untuk Va...   \n",
       "5  Kunci Jawaban Tema 9 Kelas 5 SD Tematik Halama...   \n",
       "6  Wanita di Cidaun Cianjur Disiram Pertalite Lal...   \n",
       "7  Pidato Pertama Ridho Rahmadi sebagai Ketum Par...   \n",
       "8  HASIL Klasemen Liga Italia - Inter Milan Juara...   \n",
       "9  Seorang Wanita Penghibur Jadi Korban Perampoka...   \n",
       "\n",
       "                                             content  \\\n",
       "0  [TRIBUNNEWS.COM, Jakarta - Cendekiawan Muslim ...   \n",
       "1  [TRIBUNNEWS.COM, JAKARTA - Gempa bumi dengan k...   \n",
       "2  [Laporan Wartawan Wartakotalive.com, Arie Puji...   \n",
       "3  [TRIBUNNEWS.COM BANDUNG - Sejumlah orang yang ...   \n",
       "4  [TRIBUNNEWS.COM - Organisasi Kesehatan Dunia (...   \n",
       "5  [TRIBUNNEWS.COM - Simak soal dan kunci jawaban...   \n",
       "6  [TRIBUNNEWS.COM, CIANJUR - Seorang wanita bern...   \n",
       "7  [TRIBUNNEWS.COM - Resmi menjadi ketua umum Par...   \n",
       "8  [TRIBUNNEWS.COM - Hasil klasemen Liga Italia p...   \n",
       "9  [TRIBUNNEWS, MALANG - NH (29), seorang wanita ...   \n",
       "\n",
       "                                                tags  \\\n",
       "0  [Walisongo, dakwah, budaya, ngabuburit, Zuhair...   \n",
       "1  [Mentawai, Sumatera Barat, gempa bumi, Badan M...   \n",
       "2  [Jakarta Selatan, Pasar Minggu, Bandung, Pejat...   \n",
       "3  [Bandung, Jawa Barat, Amien Rais, Partai Ummat...   \n",
       "4  [WHO, vaksin Covid-19, Moderna, Vaksin Moderna...   \n",
       "5  [Kunci Jawaban Tema 9 Kelas 5 SD, KUNCI JAWABA...   \n",
       "6  [Cianjur, cidaun, Jawa Barat, wanita dibakar k...   \n",
       "7  [Ridho Rahmadi, Partai Bentukan Amien Rais, Am...   \n",
       "8  [Liga Italia, Hasil Liga Italia, Hasil Klaseme...   \n",
       "9  [Malang, Jawa Timur, Kecamatan Lowokwaru, Komp...   \n",
       "\n",
       "                                       related_topic  \n",
       "0  {budaya, Zuhairi Misrawi, Ramadan 2021, dakwah...  \n",
       "1  {Sumatera Barat, Running News, gempa bumi, Men...  \n",
       "2  {Pejaten, Kemalingan, Terry Putri, Bandung, Pa...  \n",
       "3  {Partai Bentukan Amien Rais, Jawa Barat, Muham...  \n",
       "4  {Vaksin Moderna, Moderna, Penanganan Covid, iz...  \n",
       "5  {KUNCI JAWABAN Tema 9 Kelas 5 SD Halaman 105, ...  \n",
       "6  {Wanita Dibakar Kekasihnya, Cianjur, wanita di...  \n",
       "7  {Partai Bentukan Amien Rais, Ridho Rahmadi, Pa...  \n",
       "8  {Liga Champions, Inter Milan, Liga Italia, Ser...  \n",
       "9  {Jawa Timur, Kecamatan Lowokwaru, Malang, Komp...  "
      ]
     },
     "execution_count": 17,
     "metadata": {},
     "output_type": "execute_result"
    }
   ],
   "source": [
    "def join_topic_and_tag(row):\n",
    "    if row['topic']:\n",
    "        row['tags'].append(row['topic'].strip())\n",
    "    \n",
    "    return set(row['tags'])\n",
    "    \n",
    "tribun['related_topic'] = tribun[['topic', 'tags']].apply(join_topic_and_tag, axis=1)\n",
    "tribun.head(10)"
   ]
  },
  {
   "cell_type": "code",
   "execution_count": 18,
   "metadata": {},
   "outputs": [
    {
     "data": {
      "text/plain": [
       "{'Hasil Klasemen Liga Italia',\n",
       " 'Hasil Liga Italia',\n",
       " 'Inter Milan',\n",
       " 'Inter Milan Juara Liga Italia',\n",
       " 'Juventus',\n",
       " 'Liga Champions',\n",
       " 'Liga Italia',\n",
       " 'Nerazzurri',\n",
       " 'Serie A'}"
      ]
     },
     "execution_count": 18,
     "metadata": {},
     "output_type": "execute_result"
    }
   ],
   "source": [
    "# sanity check\n",
    "tribun.loc[8, 'related_topic']"
   ]
  },
  {
   "cell_type": "code",
   "execution_count": 19,
   "metadata": {},
   "outputs": [],
   "source": [
    "# drop joined columns\n",
    "tribun.drop(columns=['topic', 'tags'], inplace=True)"
   ]
  },
  {
   "cell_type": "code",
   "execution_count": 20,
   "metadata": {},
   "outputs": [
    {
     "data": {
      "text/html": [
       "<div>\n",
       "<style scoped>\n",
       "    .dataframe tbody tr th:only-of-type {\n",
       "        vertical-align: middle;\n",
       "    }\n",
       "\n",
       "    .dataframe tbody tr th {\n",
       "        vertical-align: top;\n",
       "    }\n",
       "\n",
       "    .dataframe thead th {\n",
       "        text-align: right;\n",
       "    }\n",
       "</style>\n",
       "<table border=\"1\" class=\"dataframe\">\n",
       "  <thead>\n",
       "    <tr style=\"text-align: right;\">\n",
       "      <th></th>\n",
       "      <th>index</th>\n",
       "      <th>title</th>\n",
       "      <th>content</th>\n",
       "      <th>related_topic</th>\n",
       "    </tr>\n",
       "  </thead>\n",
       "  <tbody>\n",
       "    <tr>\n",
       "      <td>0</td>\n",
       "      <td>0</td>\n",
       "      <td>Tumbuhkan Nasionalisme Merupakan Strategi Wali...</td>\n",
       "      <td>[TRIBUNNEWS.COM, Jakarta - Cendekiawan Muslim ...</td>\n",
       "      <td>{budaya, Zuhairi Misrawi, Ramadan 2021, dakwah...</td>\n",
       "    </tr>\n",
       "  </tbody>\n",
       "</table>\n",
       "</div>"
      ],
      "text/plain": [
       "   index                                              title  \\\n",
       "0      0  Tumbuhkan Nasionalisme Merupakan Strategi Wali...   \n",
       "\n",
       "                                             content  \\\n",
       "0  [TRIBUNNEWS.COM, Jakarta - Cendekiawan Muslim ...   \n",
       "\n",
       "                                       related_topic  \n",
       "0  {budaya, Zuhairi Misrawi, Ramadan 2021, dakwah...  "
      ]
     },
     "execution_count": 20,
     "metadata": {},
     "output_type": "execute_result"
    }
   ],
   "source": [
    "tribun.head(1)"
   ]
  },
  {
   "cell_type": "markdown",
   "metadata": {},
   "source": [
    "---"
   ]
  },
  {
   "cell_type": "markdown",
   "metadata": {},
   "source": [
    "##### Cleaning content of CNN and Tribun"
   ]
  },
  {
   "cell_type": "code",
   "execution_count": 21,
   "metadata": {
    "scrolled": false
   },
   "outputs": [
    {
     "data": {
      "text/plain": [
       "['Aksi unjuk rasa memperingati Hari Buruh Internasional (May Day) di Medan, Sumatera\\xa0Utara, berujung pada penangkapan 14 massa yang tergabung dari\\xa0 Aliansi Rakyat Melawan Hancurkan Tirani\\xa0oleh personel\\xa0Polrestabes Medan, Sabtu (1/5).',\n",
       " 'Kepala Divisi Buruh dan Miskin Kota Lembaga Bantuan Hukum (LBH) Medan, Maswan Tambak merinci 14 orang yang ditangkap polisi tersebut terdiri dari 7 orang perempuan dan 7 laki-laki.',\n",
       " 'Penangkapan berawal saat massa yang berjumlah belasan orang melakukan aksi di Jalan Djuanda Medan. Setelah menyampaikan aspirasinya, tiba-tiba saja aparat kepolisian mengamankan 14 orang itu.',\n",
       " 'Menurut Maswan tindakan refresif yang dilakukan aparat kepolisian tak punya dasar. Sebab aksi unjuk rasa itu berlangsung damai.',\n",
       " '',\n",
       " 'Selain itu, sambungnya, para peserta aksi juga\\xa0tak melanggar protokol kesehatan Covid-19.',\n",
       " '\"Menurut keterangan kawan-kawan di lapangan mereka tidak ada chaos. Tiba tiba aja mereka langsung diangkut. Kita sudah tanyakan alasan penangkapan ke Polrestabes Medan. Tapi polisi tidak bisa jawab alasan ke-14 orang ini ditangkap. Makanya kita bingung,\" kata Maswan kepada CNNIndonesia.com, Sabtu malam.',\n",
       " '\"Pascaperubahan slogan Promotor ke Presisi, ternyata polisi sama saja. Kami mendesak Kapolri untuk mengevaluasi jajarannya. Kami paham tugas polisi adalah melakukan pengamanan. Tapi polisi harus paham, rakyat juga hanya ingin menyuarakan aspirasinya,\" ujar Maswan.',\n",
       " 'Tak hanya ditangkap, massa dari Aliansi Akumulasi Kemarahan Buruh dan Rakyat (AKBAR) Sumut di Kota Medan juga diduga mendapatkan intimidasi dari oknum aparat. Aksi yang awalnya direncanakan digelar di Tugu Titik Nol Kota Medan itu harus bergeser ke Bundaran Jalan Gatot Subroto.',\n",
       " '\"Ada polisi yang kemudian merekam massa dengan mendekatkan ponselnya ke wajah massa perempuan. Ini sungguh tidak etis, dan kami anggap ancaman. Tindakan oknum kepolisian ini tidak boleh diwajarkan,\" ucap Founder Perempuan Hari Ini (PHI), Lusty Ro Manna Malau.',\n",
       " 'Intimidasi ini terjadi saat massa yang mayoritas perempuan berkumpul untuk menunggu yang lainnya datang. Bahkan kata Lusty, tindakan intimidasi itu juga mengarah pada pelecehan seksual.',\n",
       " '\"Ada beberapa massa perempuan juga digodain\\xa0\\'main mata juga samaku\\', kemudian ada yang mengeluarkan lidah. Ini adalah bentuk pelecehan kepada kami. Massa perempuan juga mendapat kata-kata seksis dari sejumlah oknum,\" urainya.',\n",
       " 'Hingga saat ini belum ada klarifikasi resmi dari aparat kepolisian mengenai penangkapan serta tudingan-tudingan lain dari peserta aksi May Day di Medan. Kapolrestabes Medan, Kombes Pol Riko Sunarko yang dikonfirmasi CNNIndonesia.com\\xa0belum merespons hingga berita ini ditulis',\n",
       " \"Di sisi lain, sejumlah kelompok buruh memilih merayakan Mayday 2021 bersama Gubernur Sumatera Utara, Edy Rahmayadi. Dalam kegiatan itu, sejumlah serikat buruh, pengusaha dan Gubernur Edy Rahmayadi terlibat di dalam kegiatan sosial serta pencabutan undian 'lucky draw'.\",\n",
       " '\"Saya ini meskipun di satu sisi sebagai penguasa karena saya gubernur tapi saya juga adalah bagian dari rakyat Sumatera Utara. Sama seperti kalian. Jadi saya ingin kalian juga ikut memberikan sumbangsih pikiran dan saran untuk Sumatera Utara yang kita cintai, \" ungkap Edy.',\n",
       " 'Edy meminta momen peringatan Mayday dibuat tidak hanya sekedar unjuk rasa di jalan. Dia ingin berfokus pada dialog atau seminar yang bertemakan soal peningkatan skill, keahlian serta sumberdaya manusia (SDM) para buruh termasuk juga aturan terkait penyelesaian hubungan sengketa antara buruh dan pengusaha yang harus punya aturan dan jalan keluar yang jelas.']"
      ]
     },
     "execution_count": 21,
     "metadata": {},
     "output_type": "execute_result"
    }
   ],
   "source": [
    "# CNN\n",
    "cnn.loc[0, 'content']"
   ]
  },
  {
   "cell_type": "code",
   "execution_count": 22,
   "metadata": {},
   "outputs": [],
   "source": [
    "# 1) parse the lists, continue on empty string '' and space (str.isspace); @cnn[0][4], tribun[0][0]\n",
    "# 2) clean nonempty string by replacing '\\xa0' and '\\xa0 ' with ' ' (space)\n",
    "# 3) strip the string of single and double quotes (' and \") // should ' and \" be removed though?\n",
    "# 4) join the string together"
   ]
  },
  {
   "cell_type": "code",
   "execution_count": 23,
   "metadata": {},
   "outputs": [],
   "source": [
    "cnn_samples = cnn.loc[0, 'content'].copy()"
   ]
  },
  {
   "cell_type": "code",
   "execution_count": 24,
   "metadata": {
    "scrolled": false
   },
   "outputs": [
    {
     "data": {
      "text/plain": [
       "'Aksi unjuk rasa memperingati Hari Buruh Internasional (May Day) di Medan, Sumatera Utara, berujung pada penangkapan 14 massa yang tergabung dari  Aliansi Rakyat Melawan Hancurkan Tirani oleh personel Polrestabes Medan, Sabtu (1/5). Kepala Divisi Buruh dan Miskin Kota Lembaga Bantuan Hukum (LBH) Medan, Maswan Tambak merinci 14 orang yang ditangkap polisi tersebut terdiri dari 7 orang perempuan dan 7 laki-laki. Penangkapan berawal saat massa yang berjumlah belasan orang melakukan aksi di Jalan Djuanda Medan. Setelah menyampaikan aspirasinya, tiba-tiba saja aparat kepolisian mengamankan 14 orang itu. Menurut Maswan tindakan refresif yang dilakukan aparat kepolisian tak punya dasar. Sebab aksi unjuk rasa itu berlangsung damai. Selain itu, sambungnya, para peserta aksi juga tak melanggar protokol kesehatan Covid-19. \"Menurut keterangan kawan-kawan di lapangan mereka tidak ada chaos. Tiba tiba aja mereka langsung diangkut. Kita sudah tanyakan alasan penangkapan ke Polrestabes Medan. Tapi polisi tidak bisa jawab alasan ke-14 orang ini ditangkap. Makanya kita bingung,\" kata Maswan kepada CNNIndonesia.com, Sabtu malam. \"Pascaperubahan slogan Promotor ke Presisi, ternyata polisi sama saja. Kami mendesak Kapolri untuk mengevaluasi jajarannya. Kami paham tugas polisi adalah melakukan pengamanan. Tapi polisi harus paham, rakyat juga hanya ingin menyuarakan aspirasinya,\" ujar Maswan. Tak hanya ditangkap, massa dari Aliansi Akumulasi Kemarahan Buruh dan Rakyat (AKBAR) Sumut di Kota Medan juga diduga mendapatkan intimidasi dari oknum aparat. Aksi yang awalnya direncanakan digelar di Tugu Titik Nol Kota Medan itu harus bergeser ke Bundaran Jalan Gatot Subroto. \"Ada polisi yang kemudian merekam massa dengan mendekatkan ponselnya ke wajah massa perempuan. Ini sungguh tidak etis, dan kami anggap ancaman. Tindakan oknum kepolisian ini tidak boleh diwajarkan,\" ucap Founder Perempuan Hari Ini (PHI), Lusty Ro Manna Malau. Intimidasi ini terjadi saat massa yang mayoritas perempuan berkumpul untuk menunggu yang lainnya datang. Bahkan kata Lusty, tindakan intimidasi itu juga mengarah pada pelecehan seksual. \"Ada beberapa massa perempuan juga digodain \\'main mata juga samaku\\', kemudian ada yang mengeluarkan lidah. Ini adalah bentuk pelecehan kepada kami. Massa perempuan juga mendapat kata-kata seksis dari sejumlah oknum,\" urainya. Hingga saat ini belum ada klarifikasi resmi dari aparat kepolisian mengenai penangkapan serta tudingan-tudingan lain dari peserta aksi May Day di Medan. Kapolrestabes Medan, Kombes Pol Riko Sunarko yang dikonfirmasi CNNIndonesia.com belum merespons hingga berita ini ditulis Di sisi lain, sejumlah kelompok buruh memilih merayakan Mayday 2021 bersama Gubernur Sumatera Utara, Edy Rahmayadi. Dalam kegiatan itu, sejumlah serikat buruh, pengusaha dan Gubernur Edy Rahmayadi terlibat di dalam kegiatan sosial serta pencabutan undian \\'lucky draw\\'. \"Saya ini meskipun di satu sisi sebagai penguasa karena saya gubernur tapi saya juga adalah bagian dari rakyat Sumatera Utara. Sama seperti kalian. Jadi saya ingin kalian juga ikut memberikan sumbangsih pikiran dan saran untuk Sumatera Utara yang kita cintai, \" ungkap Edy. Edy meminta momen peringatan Mayday dibuat tidak hanya sekedar unjuk rasa di jalan. Dia ingin berfokus pada dialog atau seminar yang bertemakan soal peningkatan skill, keahlian serta sumberdaya manusia (SDM) para buruh termasuk juga aturan terkait penyelesaian hubungan sengketa antara buruh dan pengusaha yang harus punya aturan dan jalan keluar yang jelas.'"
      ]
     },
     "execution_count": 24,
     "metadata": {},
     "output_type": "execute_result"
    }
   ],
   "source": [
    "# replace in one pass\n",
    "# https://stackoverflow.com/a/6117124/8996974\n",
    "# https://youtu.be/c9HbsUSWilw\n",
    "\n",
    "# doubt on (3)\n",
    "# rep = {'\\xa0': ' ', '\\xa0 ': ' ', '\"': '', \"'\": ''}\n",
    "\n",
    "rep = {'\\xa0': ' ', '\\xa0 ': ' '}\n",
    "rep = dict((re.escape(k), v) for k, v in rep.items()) \n",
    "pattern = re.compile(\"|\".join(rep.keys()))\n",
    "\n",
    "def clean_cnn_content(content):\n",
    "    new_content = []\n",
    "    \n",
    "    for sentence in content:\n",
    "        if not sentence or sentence.isspace():  # 1\n",
    "            continue\n",
    "\n",
    "        sentence = pattern.sub(lambda m: rep[re.escape(m.group(0))], sentence)  # 2\n",
    "        new_content.append(sentence.strip())  # strip uneven beginning or ending space\n",
    "    \n",
    "    return ' '.join(new_content)  # 4\n",
    "\n",
    "# try it\n",
    "clean_cnn_content(cnn_samples)"
   ]
  },
  {
   "cell_type": "code",
   "execution_count": 25,
   "metadata": {
    "scrolled": false
   },
   "outputs": [
    {
     "data": {
      "text/plain": [
       "['Laporan Wartawan Wartakotalive.com, Arie Puji Waluyo',\n",
       " 'TRIBUNNEWS.COM, JAKARTA - Rumah presenter dan pesinetron Terry Putri yang berada di wilayah Pejaten, Pasar Minggu, Jakarta Selatan dibobol maling.',\n",
       " 'Terry Putri mengumumkan musibah yang dialaminya di instagram miliknya, Minggu (2/5/2021).',\n",
       " 'Terry Putri membenarkan semua kejadian rumahnya dibobol maling ketika ditemui awak media, Minggu malam di kediamamnya.',\n",
       " '\"Iya, rumah aku Sabtu lalu dibobol maling,\" kata Terry Putri.',\n",
       " 'Wanita berusia 41 tahun tersebut mengatakan saat rumahnya dibobol maling, ia sedang tidak di rumah dan kediamannya dalam keadaan sepi penghuni.',\n",
       " '\"Rumah aku kosong pas kejadian. Karena aku di Bandung lagi ada pekerjaan,\" ucapnya.',\n",
       " 'Ketika pulang ke rumah pada Minggu pagi, Terry sangat kaget mendapati pagar dan pintu rumah sudah terbuka.',\n",
       " 'Ia juga sangat terkejut, saat masuk ke dalam rumah dalam kondisi berantakan.',\n",
       " '\"Kamar semua dibobol sama maling. Kamar aku yang di lantai dua juga ikut dibobol. Semua barang-barang aku habis lah dibawa, salah satunya berankas. Itu berankas isinya ada dokumen penting, perhiasan, berlian, dan uang dolar. Berankas yang tidak habis pikir bisa keangkat, karena posisinya tertanam,,\" jelasnya.',\n",
       " '\"Terus di kamar lain paspor dibawa, dua laptop punya adik aku, dan barang lainnya juga ikut digondol maling,\" tambahnya.',\n",
       " 'Setelah melihat keadaan rumah berantakan, wanita kelahiran Banjarmasin, 1 Desember 1979 tersebut langsung menghubungi polisi.',\n",
       " 'Ia sempat menanyakan kepada tetangga.',\n",
       " '\"Pas tanya kata tetangga tuh ada mobil Avanza hitam didepan rumah aku pas kejadian. Terus ada beberapa orang keluar rumah aku dan masuk mobil itu lagi yang kemudian pergi,\" ungkapnya.',\n",
       " 'Terry Putri mengatakan saat ini kasus rumahnya kemalingan sedang ditangani oleh aparat yang berwajib dari Polsek Pasar Minggu dan Polres Metro Jakarta Selatan.',\n",
       " '\"Polisi sudah datang ke rumah. Semoga aja pelakunya bisa segera ditangkap,\" ujar Terry Putri.']"
      ]
     },
     "execution_count": 25,
     "metadata": {},
     "output_type": "execute_result"
    }
   ],
   "source": [
    "# Tribun\n",
    "tribun_samples = tribun.loc[2, 'content'].copy()\n",
    "tribun_samples"
   ]
  },
  {
   "cell_type": "code",
   "execution_count": 26,
   "metadata": {
    "scrolled": false
   },
   "outputs": [
    {
     "data": {
      "text/plain": [
       "'Laporan Wartawan Wartakotalive.com, Arie Puji Waluyo TRIBUNNEWS.COM, JAKARTA - Rumah presenter dan pesinetron Terry Putri yang berada di wilayah Pejaten, Pasar Minggu, Jakarta Selatan dibobol maling. Terry Putri mengumumkan musibah yang dialaminya di instagram miliknya, Minggu (2/5/2021). Terry Putri membenarkan semua kejadian rumahnya dibobol maling ketika ditemui awak media, Minggu malam di kediamamnya. \"Iya, rumah aku Sabtu lalu dibobol maling,\" kata Terry Putri. Wanita berusia 41 tahun tersebut mengatakan saat rumahnya dibobol maling, ia sedang tidak di rumah dan kediamannya dalam keadaan sepi penghuni. \"Rumah aku kosong pas kejadian. Karena aku di Bandung lagi ada pekerjaan,\" ucapnya. Ketika pulang ke rumah pada Minggu pagi, Terry sangat kaget mendapati pagar dan pintu rumah sudah terbuka. Ia juga sangat terkejut, saat masuk ke dalam rumah dalam kondisi berantakan. \"Kamar semua dibobol sama maling. Kamar aku yang di lantai dua juga ikut dibobol. Semua barang-barang aku habis lah dibawa, salah satunya berankas. Itu berankas isinya ada dokumen penting, perhiasan, berlian, dan uang dolar. Berankas yang tidak habis pikir bisa keangkat, karena posisinya tertanam,,\" jelasnya. \"Terus di kamar lain paspor dibawa, dua laptop punya adik aku, dan barang lainnya juga ikut digondol maling,\" tambahnya. Setelah melihat keadaan rumah berantakan, wanita kelahiran Banjarmasin, 1 Desember 1979 tersebut langsung menghubungi polisi. Ia sempat menanyakan kepada tetangga. \"Pas tanya kata tetangga tuh ada mobil Avanza hitam didepan rumah aku pas kejadian. Terus ada beberapa orang keluar rumah aku dan masuk mobil itu lagi yang kemudian pergi,\" ungkapnya. Terry Putri mengatakan saat ini kasus rumahnya kemalingan sedang ditangani oleh aparat yang berwajib dari Polsek Pasar Minggu dan Polres Metro Jakarta Selatan. \"Polisi sudah datang ke rumah. Semoga aja pelakunya bisa segera ditangkap,\" ujar Terry Putri.'"
      ]
     },
     "execution_count": 26,
     "metadata": {},
     "output_type": "execute_result"
    }
   ],
   "source": [
    "def clean_tribun_content(content):\n",
    "    new_content = []\n",
    "    \n",
    "    for sentence in content:\n",
    "        if not sentence or sentence.isspace():  # 1\n",
    "            continue        \n",
    "        new_content.append(sentence.strip())  # strip uneven beginning or ending space\n",
    "    \n",
    "    return ' '.join(new_content)  # 4\n",
    "\n",
    "# try it\n",
    "clean_tribun_content(tribun_samples)"
   ]
  },
  {
   "cell_type": "code",
   "execution_count": 27,
   "metadata": {},
   "outputs": [],
   "source": [
    "# apply the function\n",
    "cnn['content'] = cnn.content.apply(clean_cnn_content)\n",
    "tribun['content'] = tribun.content.apply(clean_tribun_content)"
   ]
  },
  {
   "cell_type": "code",
   "execution_count": 28,
   "metadata": {},
   "outputs": [],
   "source": [
    "# sanity check\n",
    "# cnn.loc[0, 'content']\n",
    "# tribun.loc[2, 'content']"
   ]
  },
  {
   "cell_type": "markdown",
   "metadata": {},
   "source": [
    "##### Dump"
   ]
  },
  {
   "cell_type": "code",
   "execution_count": 31,
   "metadata": {},
   "outputs": [
    {
     "data": {
      "text/html": [
       "<div>\n",
       "<style scoped>\n",
       "    .dataframe tbody tr th:only-of-type {\n",
       "        vertical-align: middle;\n",
       "    }\n",
       "\n",
       "    .dataframe tbody tr th {\n",
       "        vertical-align: top;\n",
       "    }\n",
       "\n",
       "    .dataframe thead th {\n",
       "        text-align: right;\n",
       "    }\n",
       "</style>\n",
       "<table border=\"1\" class=\"dataframe\">\n",
       "  <thead>\n",
       "    <tr style=\"text-align: right;\">\n",
       "      <th></th>\n",
       "      <th>index</th>\n",
       "      <th>title</th>\n",
       "      <th>content</th>\n",
       "      <th>related_topic</th>\n",
       "    </tr>\n",
       "  </thead>\n",
       "  <tbody>\n",
       "    <tr>\n",
       "      <td>0</td>\n",
       "      <td>0</td>\n",
       "      <td>14 Peserta Aksi May Day di Medan Ditangkap Polisi</td>\n",
       "      <td>Aksi unjuk rasa memperingati Hari Buruh Intern...</td>\n",
       "      <td>[mayday, hari buruh, may day, medan, berita da...</td>\n",
       "    </tr>\n",
       "  </tbody>\n",
       "</table>\n",
       "</div>"
      ],
      "text/plain": [
       "   index                                              title  \\\n",
       "0      0  14 Peserta Aksi May Day di Medan Ditangkap Polisi   \n",
       "\n",
       "                                             content  \\\n",
       "0  Aksi unjuk rasa memperingati Hari Buruh Intern...   \n",
       "\n",
       "                                       related_topic  \n",
       "0  [mayday, hari buruh, may day, medan, berita da...  "
      ]
     },
     "execution_count": 31,
     "metadata": {},
     "output_type": "execute_result"
    }
   ],
   "source": [
    "cnn.head(1)"
   ]
  },
  {
   "cell_type": "code",
   "execution_count": 30,
   "metadata": {},
   "outputs": [
    {
     "data": {
      "text/html": [
       "<div>\n",
       "<style scoped>\n",
       "    .dataframe tbody tr th:only-of-type {\n",
       "        vertical-align: middle;\n",
       "    }\n",
       "\n",
       "    .dataframe tbody tr th {\n",
       "        vertical-align: top;\n",
       "    }\n",
       "\n",
       "    .dataframe thead th {\n",
       "        text-align: right;\n",
       "    }\n",
       "</style>\n",
       "<table border=\"1\" class=\"dataframe\">\n",
       "  <thead>\n",
       "    <tr style=\"text-align: right;\">\n",
       "      <th></th>\n",
       "      <th>index</th>\n",
       "      <th>title</th>\n",
       "      <th>content</th>\n",
       "      <th>related_topic</th>\n",
       "    </tr>\n",
       "  </thead>\n",
       "  <tbody>\n",
       "    <tr>\n",
       "      <td>0</td>\n",
       "      <td>0</td>\n",
       "      <td>Tumbuhkan Nasionalisme Merupakan Strategi Wali...</td>\n",
       "      <td>TRIBUNNEWS.COM, Jakarta - Cendekiawan Muslim K...</td>\n",
       "      <td>{budaya, Zuhairi Misrawi, Ramadan 2021, dakwah...</td>\n",
       "    </tr>\n",
       "  </tbody>\n",
       "</table>\n",
       "</div>"
      ],
      "text/plain": [
       "   index                                              title  \\\n",
       "0      0  Tumbuhkan Nasionalisme Merupakan Strategi Wali...   \n",
       "\n",
       "                                             content  \\\n",
       "0  TRIBUNNEWS.COM, Jakarta - Cendekiawan Muslim K...   \n",
       "\n",
       "                                       related_topic  \n",
       "0  {budaya, Zuhairi Misrawi, Ramadan 2021, dakwah...  "
      ]
     },
     "execution_count": 30,
     "metadata": {},
     "output_type": "execute_result"
    }
   ],
   "source": [
    "tribun.head(1)"
   ]
  },
  {
   "cell_type": "code",
   "execution_count": 32,
   "metadata": {},
   "outputs": [],
   "source": [
    "cnn.drop(columns='title', inplace=True)\n",
    "tribun.drop(columns='title', inplace=True)"
   ]
  },
  {
   "cell_type": "code",
   "execution_count": 35,
   "metadata": {},
   "outputs": [
    {
     "data": {
      "text/plain": [
       "((200, 2), (2248, 2))"
      ]
     },
     "execution_count": 35,
     "metadata": {},
     "output_type": "execute_result"
    }
   ],
   "source": [
    "cnn.shape, tribun.shape"
   ]
  },
  {
   "cell_type": "code",
   "execution_count": 36,
   "metadata": {},
   "outputs": [],
   "source": [
    "df = cnn.append(tribun)\n",
    "df.reset_index(drop=True, inplace=True)"
   ]
  },
  {
   "cell_type": "markdown",
   "metadata": {},
   "source": [
    "##### Prepare label"
   ]
  },
  {
   "cell_type": "code",
   "execution_count": 47,
   "metadata": {},
   "outputs": [],
   "source": [
    "# remove duplicate on related_topics & lower the word\n",
    "def prepare_label(related_topic):\n",
    "    tmp = set(related_topic)\n",
    "    return list(map(str.lower, tmp))\n",
    "\n",
    "df.related_topic = df.related_topic.apply(prepare_label)"
   ]
  },
  {
   "cell_type": "code",
   "execution_count": 48,
   "metadata": {},
   "outputs": [
    {
     "data": {
      "text/html": [
       "<div>\n",
       "<style scoped>\n",
       "    .dataframe tbody tr th:only-of-type {\n",
       "        vertical-align: middle;\n",
       "    }\n",
       "\n",
       "    .dataframe tbody tr th {\n",
       "        vertical-align: top;\n",
       "    }\n",
       "\n",
       "    .dataframe thead th {\n",
       "        text-align: right;\n",
       "    }\n",
       "</style>\n",
       "<table border=\"1\" class=\"dataframe\">\n",
       "  <thead>\n",
       "    <tr style=\"text-align: right;\">\n",
       "      <th></th>\n",
       "      <th>content</th>\n",
       "      <th>related_topic</th>\n",
       "    </tr>\n",
       "  </thead>\n",
       "  <tbody>\n",
       "    <tr>\n",
       "      <td>0</td>\n",
       "      <td>Aksi unjuk rasa memperingati Hari Buruh Intern...</td>\n",
       "      <td>[mayday, berita daerah, hari buruh, may day, m...</td>\n",
       "    </tr>\n",
       "    <tr>\n",
       "      <td>1</td>\n",
       "      <td>Atletico Madrid menang tipis 1-0 atas Elche da...</td>\n",
       "      <td>[elche vs ateltico, liga spanyol, elche, atlet...</td>\n",
       "    </tr>\n",
       "    <tr>\n",
       "      <td>2</td>\n",
       "      <td>Kepala Layanan Kimia Farma Diagnostik Bandara ...</td>\n",
       "      <td>[antigen bekas, antigen bekas kualanamu, berit...</td>\n",
       "    </tr>\n",
       "    <tr>\n",
       "      <td>3</td>\n",
       "      <td>Pembalap Repsol Honda Marc Marquez disebut men...</td>\n",
       "      <td>[motogp, angel charte, motogp spanyol 2021, ma...</td>\n",
       "    </tr>\n",
       "    <tr>\n",
       "      <td>4</td>\n",
       "      <td>Tiga orang tewas seketika akibat tertimpa bada...</td>\n",
       "      <td>[tol cipularang, purwakarta, kecelakaan, truk,...</td>\n",
       "    </tr>\n",
       "  </tbody>\n",
       "</table>\n",
       "</div>"
      ],
      "text/plain": [
       "                                             content  \\\n",
       "0  Aksi unjuk rasa memperingati Hari Buruh Intern...   \n",
       "1  Atletico Madrid menang tipis 1-0 atas Elche da...   \n",
       "2  Kepala Layanan Kimia Farma Diagnostik Bandara ...   \n",
       "3  Pembalap Repsol Honda Marc Marquez disebut men...   \n",
       "4  Tiga orang tewas seketika akibat tertimpa bada...   \n",
       "\n",
       "                                       related_topic  \n",
       "0  [mayday, berita daerah, hari buruh, may day, m...  \n",
       "1  [elche vs ateltico, liga spanyol, elche, atlet...  \n",
       "2  [antigen bekas, antigen bekas kualanamu, berit...  \n",
       "3  [motogp, angel charte, motogp spanyol 2021, ma...  \n",
       "4  [tol cipularang, purwakarta, kecelakaan, truk,...  "
      ]
     },
     "execution_count": 48,
     "metadata": {},
     "output_type": "execute_result"
    }
   ],
   "source": [
    "df.head()"
   ]
  },
  {
   "cell_type": "code",
   "execution_count": 49,
   "metadata": {},
   "outputs": [],
   "source": [
    "df.to_csv('dump_widi.csv', index=False)"
   ]
  }
 ],
 "metadata": {
  "kernelspec": {
   "display_name": "Python 3",
   "language": "python",
   "name": "python3"
  },
  "language_info": {
   "codemirror_mode": {
    "name": "ipython",
    "version": 3
   },
   "file_extension": ".py",
   "mimetype": "text/x-python",
   "name": "python",
   "nbconvert_exporter": "python",
   "pygments_lexer": "ipython3",
   "version": "3.7.4"
  }
 },
 "nbformat": 4,
 "nbformat_minor": 2
}
