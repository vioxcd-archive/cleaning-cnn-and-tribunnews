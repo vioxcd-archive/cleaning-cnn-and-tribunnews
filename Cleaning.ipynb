{
 "cells": [
  {
   "cell_type": "code",
   "execution_count": 1,
   "metadata": {},
   "outputs": [],
   "source": [
    "import os\n",
    "import re\n",
    "import json\n",
    "\n",
    "import pandas as pd"
   ]
  },
  {
   "cell_type": "code",
   "execution_count": 2,
   "metadata": {},
   "outputs": [],
   "source": [
    "FOLDER_PATH = '/home/uchan/code/fun/cnn-tribun-scraper/dump'\n",
    "CNN_DUMP = os.path.join(FOLDER_PATH, 'cnn', 'articles')\n",
    "TRIBUN_DUMP = os.path.join(FOLDER_PATH, 'tribun')"
   ]
  },
  {
   "cell_type": "code",
   "execution_count": 3,
   "metadata": {},
   "outputs": [
    {
     "data": {
      "text/plain": [
       "['20210501.json', '20210502.json']"
      ]
     },
     "execution_count": 3,
     "metadata": {},
     "output_type": "execute_result"
    }
   ],
   "source": [
    "os.listdir(CNN_DUMP)"
   ]
  },
  {
   "cell_type": "code",
   "execution_count": 4,
   "metadata": {},
   "outputs": [
    {
     "data": {
      "text/plain": [
       "['2021-5-3-35.json',\n",
       " '2021-5-3-14.json',\n",
       " '2021-5-2-9.json',\n",
       " '2021-5-1-46.json',\n",
       " '2021-5-1-7.json',\n",
       " '2021-5-3-30.json',\n",
       " '2021-5-1-36.json',\n",
       " '2021-5-1-30.json',\n",
       " '2021-5-3-34.json',\n",
       " '2021-5-3-15.json']"
      ]
     },
     "execution_count": 4,
     "metadata": {},
     "output_type": "execute_result"
    }
   ],
   "source": [
    "os.listdir(TRIBUN_DUMP)[:10]"
   ]
  },
  {
   "cell_type": "code",
   "execution_count": 5,
   "metadata": {},
   "outputs": [
    {
     "data": {
      "text/html": [
       "<div>\n",
       "<style scoped>\n",
       "    .dataframe tbody tr th:only-of-type {\n",
       "        vertical-align: middle;\n",
       "    }\n",
       "\n",
       "    .dataframe tbody tr th {\n",
       "        vertical-align: top;\n",
       "    }\n",
       "\n",
       "    .dataframe thead th {\n",
       "        text-align: right;\n",
       "    }\n",
       "</style>\n",
       "<table border=\"1\" class=\"dataframe\">\n",
       "  <thead>\n",
       "    <tr style=\"text-align: right;\">\n",
       "      <th></th>\n",
       "      <th>title</th>\n",
       "      <th>date</th>\n",
       "      <th>content</th>\n",
       "      <th>related_topic</th>\n",
       "      <th>link</th>\n",
       "    </tr>\n",
       "  </thead>\n",
       "  <tbody>\n",
       "    <tr>\n",
       "      <td>0</td>\n",
       "      <td>14 Peserta Aksi May Day di Medan Ditangkap Polisi</td>\n",
       "      <td>Sabtu, 01/05/2021 23:44 WIB</td>\n",
       "      <td>[Aksi unjuk rasa memperingati Hari Buruh Inter...</td>\n",
       "      <td>[mayday, hari buruh, may day, medan, berita da...</td>\n",
       "      <td>https://www.cnnindonesia.com/nasional/20210501...</td>\n",
       "    </tr>\n",
       "    <tr>\n",
       "      <td>1</td>\n",
       "      <td>Hasil Liga Spanyol: Atletico Kalahkan Elche 1-0</td>\n",
       "      <td>Sabtu, 01/05/2021 23:16 WIB</td>\n",
       "      <td>[Atletico Madrid menang tipis 1-0 atas Elche d...</td>\n",
       "      <td>[atletico madrid, atletico madrid, elche vs at...</td>\n",
       "      <td>https://www.cnnindonesia.com/olahraga/20210501...</td>\n",
       "    </tr>\n",
       "    <tr>\n",
       "      <td>2</td>\n",
       "      <td>Kepala KF Kualanamu Tersangka Antigen Bangun R...</td>\n",
       "      <td>Sabtu, 01/05/2021 22:59 WIB</td>\n",
       "      <td>[Kepala Layanan Kimia Farma Diagnostik Bandara...</td>\n",
       "      <td>[antigen bekas, tes antigen bekas, antigen bek...</td>\n",
       "      <td>https://www.cnnindonesia.com/nasional/20210501...</td>\n",
       "    </tr>\n",
       "    <tr>\n",
       "      <td>3</td>\n",
       "      <td>Marquez Cedera Punggung Usai Kecelakaan di Mot...</td>\n",
       "      <td>Sabtu, 01/05/2021 22:22 WIB</td>\n",
       "      <td>[Pembalap Repsol Honda Marc Marquez disebut me...</td>\n",
       "      <td>[marc marquez, motogp spanyol 2021, motogp spa...</td>\n",
       "      <td>https://www.cnnindonesia.com/olahraga/20210501...</td>\n",
       "    </tr>\n",
       "    <tr>\n",
       "      <td>4</td>\n",
       "      <td>Bantu Ganti Ban Pecah, 3 Sopir Tewas Tertimpa ...</td>\n",
       "      <td>Sabtu, 01/05/2021 21:45 WIB</td>\n",
       "      <td>[Tiga orang tewas seketika akibat tertimpa bad...</td>\n",
       "      <td>[kecelakaan, cipularang, truk, tol cipularang,...</td>\n",
       "      <td>https://www.cnnindonesia.com/nasional/20210501...</td>\n",
       "    </tr>\n",
       "    <tr>\n",
       "      <td>5</td>\n",
       "      <td>Sinyal Kuat Marquez Terpuruk di MotoGP Spanyol</td>\n",
       "      <td>Sabtu, 01/05/2021 21:39 WIB</td>\n",
       "      <td>[Marc Marquez belum juga mencapai performa ter...</td>\n",
       "      <td>[marc marquez, motogp, motogp spanyol, motogp ...</td>\n",
       "      <td>https://www.cnnindonesia.com/olahraga/20210501...</td>\n",
       "    </tr>\n",
       "    <tr>\n",
       "      <td>6</td>\n",
       "      <td>Indonesia Pulangkan Nelayan Aceh yang Ditahan ...</td>\n",
       "      <td>Sabtu, 01/05/2021 21:18 WIB</td>\n",
       "      <td>[Kementerian Luar Negeri telah melaksanakan se...</td>\n",
       "      <td>[myanmar, wni, nelayan aceh, nelayan aceh dita...</td>\n",
       "      <td>https://www.cnnindonesia.com/internasional/202...</td>\n",
       "    </tr>\n",
       "    <tr>\n",
       "      <td>7</td>\n",
       "      <td>Kebakaran Pondok Pesantren di Sulsel, Asrama H...</td>\n",
       "      <td>Sabtu, 01/05/2021 20:43 WIB</td>\n",
       "      <td>[Pondok Pesantren Umar Bin Abdul Aziz Wahdah I...</td>\n",
       "      <td>[berita daerah, makassar, pesantren, kebakaran]</td>\n",
       "      <td>https://www.cnnindonesia.com/nasional/20210501...</td>\n",
       "    </tr>\n",
       "    <tr>\n",
       "      <td>8</td>\n",
       "      <td>Hasil Liga Inggris: Man City Kalahkan Crystal ...</td>\n",
       "      <td>Sabtu, 01/05/2021 20:38 WIB</td>\n",
       "      <td>[Manchester City berhasil memetik kemenangan 2...</td>\n",
       "      <td>[manchester city, crystal palace, liga inggris...</td>\n",
       "      <td>https://www.cnnindonesia.com/olahraga/20210501...</td>\n",
       "    </tr>\n",
       "    <tr>\n",
       "      <td>9</td>\n",
       "      <td>97 Orang Ditangkap Saat Demo Hari Buruh di Jak...</td>\n",
       "      <td>Sabtu, 01/05/2021 20:33 WIB</td>\n",
       "      <td>[Sebanyak 97 orang ditangkap saat aksi peringa...</td>\n",
       "      <td>[buruh, hari buruh, demo buruh, may day]</td>\n",
       "      <td>https://www.cnnindonesia.com/nasional/20210501...</td>\n",
       "    </tr>\n",
       "  </tbody>\n",
       "</table>\n",
       "</div>"
      ],
      "text/plain": [
       "                                               title  \\\n",
       "0  14 Peserta Aksi May Day di Medan Ditangkap Polisi   \n",
       "1    Hasil Liga Spanyol: Atletico Kalahkan Elche 1-0   \n",
       "2  Kepala KF Kualanamu Tersangka Antigen Bangun R...   \n",
       "3  Marquez Cedera Punggung Usai Kecelakaan di Mot...   \n",
       "4  Bantu Ganti Ban Pecah, 3 Sopir Tewas Tertimpa ...   \n",
       "5     Sinyal Kuat Marquez Terpuruk di MotoGP Spanyol   \n",
       "6  Indonesia Pulangkan Nelayan Aceh yang Ditahan ...   \n",
       "7  Kebakaran Pondok Pesantren di Sulsel, Asrama H...   \n",
       "8  Hasil Liga Inggris: Man City Kalahkan Crystal ...   \n",
       "9  97 Orang Ditangkap Saat Demo Hari Buruh di Jak...   \n",
       "\n",
       "                          date  \\\n",
       "0  Sabtu, 01/05/2021 23:44 WIB   \n",
       "1  Sabtu, 01/05/2021 23:16 WIB   \n",
       "2  Sabtu, 01/05/2021 22:59 WIB   \n",
       "3  Sabtu, 01/05/2021 22:22 WIB   \n",
       "4  Sabtu, 01/05/2021 21:45 WIB   \n",
       "5  Sabtu, 01/05/2021 21:39 WIB   \n",
       "6  Sabtu, 01/05/2021 21:18 WIB   \n",
       "7  Sabtu, 01/05/2021 20:43 WIB   \n",
       "8  Sabtu, 01/05/2021 20:38 WIB   \n",
       "9  Sabtu, 01/05/2021 20:33 WIB   \n",
       "\n",
       "                                             content  \\\n",
       "0  [Aksi unjuk rasa memperingati Hari Buruh Inter...   \n",
       "1  [Atletico Madrid menang tipis 1-0 atas Elche d...   \n",
       "2  [Kepala Layanan Kimia Farma Diagnostik Bandara...   \n",
       "3  [Pembalap Repsol Honda Marc Marquez disebut me...   \n",
       "4  [Tiga orang tewas seketika akibat tertimpa bad...   \n",
       "5  [Marc Marquez belum juga mencapai performa ter...   \n",
       "6  [Kementerian Luar Negeri telah melaksanakan se...   \n",
       "7  [Pondok Pesantren Umar Bin Abdul Aziz Wahdah I...   \n",
       "8  [Manchester City berhasil memetik kemenangan 2...   \n",
       "9  [Sebanyak 97 orang ditangkap saat aksi peringa...   \n",
       "\n",
       "                                       related_topic  \\\n",
       "0  [mayday, hari buruh, may day, medan, berita da...   \n",
       "1  [atletico madrid, atletico madrid, elche vs at...   \n",
       "2  [antigen bekas, tes antigen bekas, antigen bek...   \n",
       "3  [marc marquez, motogp spanyol 2021, motogp spa...   \n",
       "4  [kecelakaan, cipularang, truk, tol cipularang,...   \n",
       "5  [marc marquez, motogp, motogp spanyol, motogp ...   \n",
       "6  [myanmar, wni, nelayan aceh, nelayan aceh dita...   \n",
       "7    [berita daerah, makassar, pesantren, kebakaran]   \n",
       "8  [manchester city, crystal palace, liga inggris...   \n",
       "9           [buruh, hari buruh, demo buruh, may day]   \n",
       "\n",
       "                                                link  \n",
       "0  https://www.cnnindonesia.com/nasional/20210501...  \n",
       "1  https://www.cnnindonesia.com/olahraga/20210501...  \n",
       "2  https://www.cnnindonesia.com/nasional/20210501...  \n",
       "3  https://www.cnnindonesia.com/olahraga/20210501...  \n",
       "4  https://www.cnnindonesia.com/nasional/20210501...  \n",
       "5  https://www.cnnindonesia.com/olahraga/20210501...  \n",
       "6  https://www.cnnindonesia.com/internasional/202...  \n",
       "7  https://www.cnnindonesia.com/nasional/20210501...  \n",
       "8  https://www.cnnindonesia.com/olahraga/20210501...  \n",
       "9  https://www.cnnindonesia.com/nasional/20210501...  "
      ]
     },
     "execution_count": 5,
     "metadata": {},
     "output_type": "execute_result"
    }
   ],
   "source": [
    "# reading CNN dumps\n",
    "cnn = pd.read_json(f'{CNN_DUMP}/20210501.json')\n",
    "cnn.head(10)"
   ]
  },
  {
   "cell_type": "code",
   "execution_count": 6,
   "metadata": {},
   "outputs": [
    {
     "data": {
      "text/html": [
       "<div>\n",
       "<style scoped>\n",
       "    .dataframe tbody tr th:only-of-type {\n",
       "        vertical-align: middle;\n",
       "    }\n",
       "\n",
       "    .dataframe tbody tr th {\n",
       "        vertical-align: top;\n",
       "    }\n",
       "\n",
       "    .dataframe thead th {\n",
       "        text-align: right;\n",
       "    }\n",
       "</style>\n",
       "<table border=\"1\" class=\"dataframe\">\n",
       "  <thead>\n",
       "    <tr style=\"text-align: right;\">\n",
       "      <th></th>\n",
       "      <th>topic</th>\n",
       "      <th>title</th>\n",
       "      <th>date_published</th>\n",
       "      <th>content</th>\n",
       "      <th>tags</th>\n",
       "      <th>link</th>\n",
       "    </tr>\n",
       "  </thead>\n",
       "  <tbody>\n",
       "    <tr>\n",
       "      <td>0</td>\n",
       "      <td>None</td>\n",
       "      <td>Kapan Waktu Terbaik Bersihkan Rice Cooker? Ber...</td>\n",
       "      <td>Sabtu, 1 Mei 2021 17:30 WIB</td>\n",
       "      <td>[  , Parapuan.co – Kawan Puan, kapan terakhir ...</td>\n",
       "      <td>[rice cooker, membersihkan rice cooker]</td>\n",
       "      <td>https://www.tribunnews.com/parapuan/2021/05/03...</td>\n",
       "    </tr>\n",
       "    <tr>\n",
       "      <td>1</td>\n",
       "      <td>None</td>\n",
       "      <td>Demi Bantu India Lawan Krisis Covid-19, Priyan...</td>\n",
       "      <td>Sabtu, 1 Mei 2021 18:15 WIB</td>\n",
       "      <td>[  , Parapuan.co – Beberapa waktu belakangan, ...</td>\n",
       "      <td>[India, Priyanka Chopra, Nick Jonas, Covid-19 ...</td>\n",
       "      <td>https://www.tribunnews.com/parapuan/2021/05/03...</td>\n",
       "    </tr>\n",
       "    <tr>\n",
       "      <td>2</td>\n",
       "      <td>None</td>\n",
       "      <td>Nyeri Tulang dan Gampang Lelah, Waspadai Tanda...</td>\n",
       "      <td>Sabtu, 1 Mei 2021 18:45 WIB</td>\n",
       "      <td>[  , Parapuan.co - Vitamin D dalam tubuh berpe...</td>\n",
       "      <td>[vitamin, vitamin D, rambut rontok, mudah lela...</td>\n",
       "      <td>https://www.tribunnews.com/parapuan/2021/05/02...</td>\n",
       "    </tr>\n",
       "    <tr>\n",
       "      <td>3</td>\n",
       "      <td>None</td>\n",
       "      <td>Pemerintah Dukung Generasi Muda dan Talenta In...</td>\n",
       "      <td>Sabtu, 1 Mei 2021 19:26 WIB</td>\n",
       "      <td>[  , Parapuan.co - Pandemi yang telah terjadi ...</td>\n",
       "      <td>[Agnezmo, Industri hiburan, Eventori]</td>\n",
       "      <td>https://www.tribunnews.com/parapuan/2021/05/02...</td>\n",
       "    </tr>\n",
       "    <tr>\n",
       "      <td>4</td>\n",
       "      <td>None</td>\n",
       "      <td>Selain Ciptakan Suasana Kooperatif, Ini Cara L...</td>\n",
       "      <td>Sabtu, 1 Mei 2021 20:10 WIB</td>\n",
       "      <td>[  , Parapuan.co – Kawan Puan, ketika kamu mem...</td>\n",
       "      <td>[anak, pertengkaran anak, mencegah pertengkara...</td>\n",
       "      <td>https://www.tribunnews.com/parapuan/2021/05/02...</td>\n",
       "    </tr>\n",
       "    <tr>\n",
       "      <td>5</td>\n",
       "      <td>None</td>\n",
       "      <td>Berbuka dengan Es Teh Manis Sebaiknya Dihindar...</td>\n",
       "      <td>Sabtu, 1 Mei 2021 20:25 WIB</td>\n",
       "      <td>[  , Parapuan.co – Kawan Puan, apakah minuman ...</td>\n",
       "      <td>[Es Teh Manis, minum es teh saat buka puasa]</td>\n",
       "      <td>https://www.tribunnews.com/parapuan/2021/05/02...</td>\n",
       "    </tr>\n",
       "    <tr>\n",
       "      <td>6</td>\n",
       "      <td>None</td>\n",
       "      <td>Komnas Perempuan Ajukan 6 Tuntutan untuk Lindu...</td>\n",
       "      <td>Sabtu, 1 Mei 2021 20:45 WIB</td>\n",
       "      <td>[  , Parapuan.co - Peringatan Hari Buruh Inter...</td>\n",
       "      <td>[buruh, May Day, Hari Buruh Internasional, pek...</td>\n",
       "      <td>https://www.tribunnews.com/parapuan/2021/05/02...</td>\n",
       "    </tr>\n",
       "    <tr>\n",
       "      <td>7</td>\n",
       "      <td>None</td>\n",
       "      <td>Anak Suka Susah Tidur Malam? Begini Cara Membi...</td>\n",
       "      <td>Sabtu, 1 Mei 2021 21:30 WIB</td>\n",
       "      <td>[  , Parapuan.co – Kawan Puan, apakah kamu ser...</td>\n",
       "      <td>[anak tidur, tidur malam, membiasakan anak tid...</td>\n",
       "      <td>https://www.tribunnews.com/parapuan/2021/05/02...</td>\n",
       "    </tr>\n",
       "    <tr>\n",
       "      <td>8</td>\n",
       "      <td>\\nLiga Italia\\n</td>\n",
       "      <td>HASIL Crotone vs Inter Milan Liga Italia Babak...</td>\n",
       "      <td>Sabtu, 1 Mei 2021 23:55 WIB</td>\n",
       "      <td>[TRIBUNNEWS.COM - Hasil babak pertama Crotone ...</td>\n",
       "      <td>[Hasil Crotone vs Inter Milan, Crotone vs Inte...</td>\n",
       "      <td>https://www.tribunnews.com/superskor/2021/05/0...</td>\n",
       "    </tr>\n",
       "    <tr>\n",
       "      <td>9</td>\n",
       "      <td>\\nMotoGP\\n</td>\n",
       "      <td>SIARAN LANGSUNG RACE MotoGP Spanyol 2021: Fabi...</td>\n",
       "      <td>Sabtu, 1 Mei 2021 23:44 WIB</td>\n",
       "      <td>[TRIBUNNEWS.COM - Siaran langsung race MotoGP ...</td>\n",
       "      <td>[SIARAN LANGSUNG RACE MotoGP Spanyol 2021, Mot...</td>\n",
       "      <td>https://www.tribunnews.com/sport/2021/05/01/si...</td>\n",
       "    </tr>\n",
       "  </tbody>\n",
       "</table>\n",
       "</div>"
      ],
      "text/plain": [
       "             topic                                              title  \\\n",
       "0             None  Kapan Waktu Terbaik Bersihkan Rice Cooker? Ber...   \n",
       "1             None  Demi Bantu India Lawan Krisis Covid-19, Priyan...   \n",
       "2             None  Nyeri Tulang dan Gampang Lelah, Waspadai Tanda...   \n",
       "3             None  Pemerintah Dukung Generasi Muda dan Talenta In...   \n",
       "4             None  Selain Ciptakan Suasana Kooperatif, Ini Cara L...   \n",
       "5             None  Berbuka dengan Es Teh Manis Sebaiknya Dihindar...   \n",
       "6             None  Komnas Perempuan Ajukan 6 Tuntutan untuk Lindu...   \n",
       "7             None  Anak Suka Susah Tidur Malam? Begini Cara Membi...   \n",
       "8  \\nLiga Italia\\n  HASIL Crotone vs Inter Milan Liga Italia Babak...   \n",
       "9       \\nMotoGP\\n  SIARAN LANGSUNG RACE MotoGP Spanyol 2021: Fabi...   \n",
       "\n",
       "                date_published  \\\n",
       "0  Sabtu, 1 Mei 2021 17:30 WIB   \n",
       "1  Sabtu, 1 Mei 2021 18:15 WIB   \n",
       "2  Sabtu, 1 Mei 2021 18:45 WIB   \n",
       "3  Sabtu, 1 Mei 2021 19:26 WIB   \n",
       "4  Sabtu, 1 Mei 2021 20:10 WIB   \n",
       "5  Sabtu, 1 Mei 2021 20:25 WIB   \n",
       "6  Sabtu, 1 Mei 2021 20:45 WIB   \n",
       "7  Sabtu, 1 Mei 2021 21:30 WIB   \n",
       "8  Sabtu, 1 Mei 2021 23:55 WIB   \n",
       "9  Sabtu, 1 Mei 2021 23:44 WIB   \n",
       "\n",
       "                                             content  \\\n",
       "0  [  , Parapuan.co – Kawan Puan, kapan terakhir ...   \n",
       "1  [  , Parapuan.co – Beberapa waktu belakangan, ...   \n",
       "2  [  , Parapuan.co - Vitamin D dalam tubuh berpe...   \n",
       "3  [  , Parapuan.co - Pandemi yang telah terjadi ...   \n",
       "4  [  , Parapuan.co – Kawan Puan, ketika kamu mem...   \n",
       "5  [  , Parapuan.co – Kawan Puan, apakah minuman ...   \n",
       "6  [  , Parapuan.co - Peringatan Hari Buruh Inter...   \n",
       "7  [  , Parapuan.co – Kawan Puan, apakah kamu ser...   \n",
       "8  [TRIBUNNEWS.COM - Hasil babak pertama Crotone ...   \n",
       "9  [TRIBUNNEWS.COM - Siaran langsung race MotoGP ...   \n",
       "\n",
       "                                                tags  \\\n",
       "0            [rice cooker, membersihkan rice cooker]   \n",
       "1  [India, Priyanka Chopra, Nick Jonas, Covid-19 ...   \n",
       "2  [vitamin, vitamin D, rambut rontok, mudah lela...   \n",
       "3              [Agnezmo, Industri hiburan, Eventori]   \n",
       "4  [anak, pertengkaran anak, mencegah pertengkara...   \n",
       "5       [Es Teh Manis, minum es teh saat buka puasa]   \n",
       "6  [buruh, May Day, Hari Buruh Internasional, pek...   \n",
       "7  [anak tidur, tidur malam, membiasakan anak tid...   \n",
       "8  [Hasil Crotone vs Inter Milan, Crotone vs Inte...   \n",
       "9  [SIARAN LANGSUNG RACE MotoGP Spanyol 2021, Mot...   \n",
       "\n",
       "                                                link  \n",
       "0  https://www.tribunnews.com/parapuan/2021/05/03...  \n",
       "1  https://www.tribunnews.com/parapuan/2021/05/03...  \n",
       "2  https://www.tribunnews.com/parapuan/2021/05/02...  \n",
       "3  https://www.tribunnews.com/parapuan/2021/05/02...  \n",
       "4  https://www.tribunnews.com/parapuan/2021/05/02...  \n",
       "5  https://www.tribunnews.com/parapuan/2021/05/02...  \n",
       "6  https://www.tribunnews.com/parapuan/2021/05/02...  \n",
       "7  https://www.tribunnews.com/parapuan/2021/05/02...  \n",
       "8  https://www.tribunnews.com/superskor/2021/05/0...  \n",
       "9  https://www.tribunnews.com/sport/2021/05/01/si...  "
      ]
     },
     "execution_count": 6,
     "metadata": {},
     "output_type": "execute_result"
    }
   ],
   "source": [
    "# reading Tribun dumps\n",
    "tribun = pd.read_json(f'{TRIBUN_DUMP}/2021-5-1-1.json')\n",
    "tribun.head(10)"
   ]
  },
  {
   "cell_type": "markdown",
   "metadata": {},
   "source": [
    "---"
   ]
  },
  {
   "cell_type": "markdown",
   "metadata": {},
   "source": [
    "#### Cleaning untuk Widi\n",
    "\n",
    "cuma perlu kolom: 1) content untuk prediksi; 2) topic & tags untuk label\n",
    "\n",
    "TODO: 1) cleaning content, topic, tags; 2) cek zakat di topic & tags"
   ]
  },
  {
   "cell_type": "code",
   "execution_count": 7,
   "metadata": {},
   "outputs": [
    {
     "data": {
      "text/plain": [
       "(Index(['title', 'date', 'content', 'related_topic', 'link'], dtype='object'),\n",
       " Index(['topic', 'title', 'date_published', 'content', 'tags', 'link'], dtype='object'))"
      ]
     },
     "execution_count": 7,
     "metadata": {},
     "output_type": "execute_result"
    }
   ],
   "source": [
    "# check which columns to drop\n",
    "cnn.columns, tribun.columns"
   ]
  },
  {
   "cell_type": "code",
   "execution_count": 8,
   "metadata": {},
   "outputs": [],
   "source": [
    "# drop columns\n",
    "cnn.drop(columns=['date', 'link'], inplace=True)\n",
    "tribun.drop(columns=['date_published', 'link'], inplace=True)"
   ]
  },
  {
   "cell_type": "code",
   "execution_count": 9,
   "metadata": {},
   "outputs": [
    {
     "data": {
      "text/html": [
       "<div>\n",
       "<style scoped>\n",
       "    .dataframe tbody tr th:only-of-type {\n",
       "        vertical-align: middle;\n",
       "    }\n",
       "\n",
       "    .dataframe tbody tr th {\n",
       "        vertical-align: top;\n",
       "    }\n",
       "\n",
       "    .dataframe thead th {\n",
       "        text-align: right;\n",
       "    }\n",
       "</style>\n",
       "<table border=\"1\" class=\"dataframe\">\n",
       "  <thead>\n",
       "    <tr style=\"text-align: right;\">\n",
       "      <th></th>\n",
       "      <th>title</th>\n",
       "      <th>content</th>\n",
       "      <th>related_topic</th>\n",
       "    </tr>\n",
       "  </thead>\n",
       "  <tbody>\n",
       "    <tr>\n",
       "      <td>0</td>\n",
       "      <td>14 Peserta Aksi May Day di Medan Ditangkap Polisi</td>\n",
       "      <td>[Aksi unjuk rasa memperingati Hari Buruh Inter...</td>\n",
       "      <td>[mayday, hari buruh, may day, medan, berita da...</td>\n",
       "    </tr>\n",
       "  </tbody>\n",
       "</table>\n",
       "</div>"
      ],
      "text/plain": [
       "                                               title  \\\n",
       "0  14 Peserta Aksi May Day di Medan Ditangkap Polisi   \n",
       "\n",
       "                                             content  \\\n",
       "0  [Aksi unjuk rasa memperingati Hari Buruh Inter...   \n",
       "\n",
       "                                       related_topic  \n",
       "0  [mayday, hari buruh, may day, medan, berita da...  "
      ]
     },
     "execution_count": 9,
     "metadata": {},
     "output_type": "execute_result"
    }
   ],
   "source": [
    "cnn.head(1)"
   ]
  },
  {
   "cell_type": "code",
   "execution_count": 10,
   "metadata": {},
   "outputs": [
    {
     "data": {
      "text/html": [
       "<div>\n",
       "<style scoped>\n",
       "    .dataframe tbody tr th:only-of-type {\n",
       "        vertical-align: middle;\n",
       "    }\n",
       "\n",
       "    .dataframe tbody tr th {\n",
       "        vertical-align: top;\n",
       "    }\n",
       "\n",
       "    .dataframe thead th {\n",
       "        text-align: right;\n",
       "    }\n",
       "</style>\n",
       "<table border=\"1\" class=\"dataframe\">\n",
       "  <thead>\n",
       "    <tr style=\"text-align: right;\">\n",
       "      <th></th>\n",
       "      <th>topic</th>\n",
       "      <th>title</th>\n",
       "      <th>content</th>\n",
       "      <th>tags</th>\n",
       "    </tr>\n",
       "  </thead>\n",
       "  <tbody>\n",
       "    <tr>\n",
       "      <td>0</td>\n",
       "      <td>None</td>\n",
       "      <td>Kapan Waktu Terbaik Bersihkan Rice Cooker? Ber...</td>\n",
       "      <td>[  , Parapuan.co – Kawan Puan, kapan terakhir ...</td>\n",
       "      <td>[rice cooker, membersihkan rice cooker]</td>\n",
       "    </tr>\n",
       "  </tbody>\n",
       "</table>\n",
       "</div>"
      ],
      "text/plain": [
       "  topic                                              title  \\\n",
       "0  None  Kapan Waktu Terbaik Bersihkan Rice Cooker? Ber...   \n",
       "\n",
       "                                             content  \\\n",
       "0  [  , Parapuan.co – Kawan Puan, kapan terakhir ...   \n",
       "\n",
       "                                      tags  \n",
       "0  [rice cooker, membersihkan rice cooker]  "
      ]
     },
     "execution_count": 10,
     "metadata": {},
     "output_type": "execute_result"
    }
   ],
   "source": [
    "tribun.head(1)"
   ]
  },
  {
   "cell_type": "code",
   "execution_count": 11,
   "metadata": {},
   "outputs": [
    {
     "name": "stdout",
     "output_type": "stream",
     "text": [
      "title: <class 'str'>\n",
      "content: <class 'list'>\n",
      "related_topic: <class 'list'>\n"
     ]
    }
   ],
   "source": [
    "# check dtypes before combining columns\n",
    "for s in cnn.columns:\n",
    "    print(f'{s}: {type(cnn[s][0])}')"
   ]
  },
  {
   "cell_type": "code",
   "execution_count": 12,
   "metadata": {},
   "outputs": [
    {
     "name": "stdout",
     "output_type": "stream",
     "text": [
      "topic: <class 'NoneType'>\n",
      "title: <class 'str'>\n",
      "content: <class 'list'>\n",
      "tags: <class 'list'>\n"
     ]
    }
   ],
   "source": [
    "for s in tribun.columns:\n",
    "    print(f'{s}: {type(tribun[s][0])}')"
   ]
  },
  {
   "cell_type": "markdown",
   "metadata": {},
   "source": [
    "---"
   ]
  },
  {
   "cell_type": "markdown",
   "metadata": {},
   "source": [
    "##### Join Tribun topic to its related tags"
   ]
  },
  {
   "cell_type": "code",
   "execution_count": 13,
   "metadata": {
    "scrolled": false
   },
   "outputs": [
    {
     "data": {
      "text/html": [
       "<div>\n",
       "<style scoped>\n",
       "    .dataframe tbody tr th:only-of-type {\n",
       "        vertical-align: middle;\n",
       "    }\n",
       "\n",
       "    .dataframe tbody tr th {\n",
       "        vertical-align: top;\n",
       "    }\n",
       "\n",
       "    .dataframe thead th {\n",
       "        text-align: right;\n",
       "    }\n",
       "</style>\n",
       "<table border=\"1\" class=\"dataframe\">\n",
       "  <thead>\n",
       "    <tr style=\"text-align: right;\">\n",
       "      <th></th>\n",
       "      <th>topic</th>\n",
       "      <th>title</th>\n",
       "      <th>content</th>\n",
       "      <th>tags</th>\n",
       "      <th>related_topic</th>\n",
       "    </tr>\n",
       "  </thead>\n",
       "  <tbody>\n",
       "    <tr>\n",
       "      <td>0</td>\n",
       "      <td>None</td>\n",
       "      <td>Kapan Waktu Terbaik Bersihkan Rice Cooker? Ber...</td>\n",
       "      <td>[  , Parapuan.co – Kawan Puan, kapan terakhir ...</td>\n",
       "      <td>[rice cooker, membersihkan rice cooker]</td>\n",
       "      <td>{rice cooker, membersihkan rice cooker}</td>\n",
       "    </tr>\n",
       "    <tr>\n",
       "      <td>1</td>\n",
       "      <td>None</td>\n",
       "      <td>Demi Bantu India Lawan Krisis Covid-19, Priyan...</td>\n",
       "      <td>[  , Parapuan.co – Beberapa waktu belakangan, ...</td>\n",
       "      <td>[India, Priyanka Chopra, Nick Jonas, Covid-19 ...</td>\n",
       "      <td>{Nick Jonas, Covid-19 di India, Priyanka Chopr...</td>\n",
       "    </tr>\n",
       "    <tr>\n",
       "      <td>2</td>\n",
       "      <td>None</td>\n",
       "      <td>Nyeri Tulang dan Gampang Lelah, Waspadai Tanda...</td>\n",
       "      <td>[  , Parapuan.co - Vitamin D dalam tubuh berpe...</td>\n",
       "      <td>[vitamin, vitamin D, rambut rontok, mudah lela...</td>\n",
       "      <td>{vitamin D, tanda tubuh kekurangan vitamin d, ...</td>\n",
       "    </tr>\n",
       "    <tr>\n",
       "      <td>3</td>\n",
       "      <td>None</td>\n",
       "      <td>Pemerintah Dukung Generasi Muda dan Talenta In...</td>\n",
       "      <td>[  , Parapuan.co - Pandemi yang telah terjadi ...</td>\n",
       "      <td>[Agnezmo, Industri hiburan, Eventori]</td>\n",
       "      <td>{Agnezmo, Eventori, Industri hiburan}</td>\n",
       "    </tr>\n",
       "    <tr>\n",
       "      <td>4</td>\n",
       "      <td>None</td>\n",
       "      <td>Selain Ciptakan Suasana Kooperatif, Ini Cara L...</td>\n",
       "      <td>[  , Parapuan.co – Kawan Puan, ketika kamu mem...</td>\n",
       "      <td>[anak, pertengkaran anak, mencegah pertengkara...</td>\n",
       "      <td>{pertengkaran anak, anak, mencegah pertengkara...</td>\n",
       "    </tr>\n",
       "    <tr>\n",
       "      <td>5</td>\n",
       "      <td>None</td>\n",
       "      <td>Berbuka dengan Es Teh Manis Sebaiknya Dihindar...</td>\n",
       "      <td>[  , Parapuan.co – Kawan Puan, apakah minuman ...</td>\n",
       "      <td>[Es Teh Manis, minum es teh saat buka puasa]</td>\n",
       "      <td>{Es Teh Manis, minum es teh saat buka puasa}</td>\n",
       "    </tr>\n",
       "    <tr>\n",
       "      <td>6</td>\n",
       "      <td>None</td>\n",
       "      <td>Komnas Perempuan Ajukan 6 Tuntutan untuk Lindu...</td>\n",
       "      <td>[  , Parapuan.co - Peringatan Hari Buruh Inter...</td>\n",
       "      <td>[buruh, May Day, Hari Buruh Internasional, pek...</td>\n",
       "      <td>{Komnas Perempuan, pekerja perempuan, Hari Bur...</td>\n",
       "    </tr>\n",
       "    <tr>\n",
       "      <td>7</td>\n",
       "      <td>None</td>\n",
       "      <td>Anak Suka Susah Tidur Malam? Begini Cara Membi...</td>\n",
       "      <td>[  , Parapuan.co – Kawan Puan, apakah kamu ser...</td>\n",
       "      <td>[anak tidur, tidur malam, membiasakan anak tid...</td>\n",
       "      <td>{membiasakan anak tidur tanpa drama, anak tidu...</td>\n",
       "    </tr>\n",
       "    <tr>\n",
       "      <td>8</td>\n",
       "      <td>\\nLiga Italia\\n</td>\n",
       "      <td>HASIL Crotone vs Inter Milan Liga Italia Babak...</td>\n",
       "      <td>[TRIBUNNEWS.COM - Hasil babak pertama Crotone ...</td>\n",
       "      <td>[Hasil Crotone vs Inter Milan, Crotone vs Inte...</td>\n",
       "      <td>{Liga Italia, Stefano Sensi, Inter Milan, Nera...</td>\n",
       "    </tr>\n",
       "    <tr>\n",
       "      <td>9</td>\n",
       "      <td>\\nMotoGP\\n</td>\n",
       "      <td>SIARAN LANGSUNG RACE MotoGP Spanyol 2021: Fabi...</td>\n",
       "      <td>[TRIBUNNEWS.COM - Siaran langsung race MotoGP ...</td>\n",
       "      <td>[SIARAN LANGSUNG RACE MotoGP Spanyol 2021, Mot...</td>\n",
       "      <td>{MotoGP, Fabio Quartararo, MotoGP Spanyol 2021...</td>\n",
       "    </tr>\n",
       "  </tbody>\n",
       "</table>\n",
       "</div>"
      ],
      "text/plain": [
       "             topic                                              title  \\\n",
       "0             None  Kapan Waktu Terbaik Bersihkan Rice Cooker? Ber...   \n",
       "1             None  Demi Bantu India Lawan Krisis Covid-19, Priyan...   \n",
       "2             None  Nyeri Tulang dan Gampang Lelah, Waspadai Tanda...   \n",
       "3             None  Pemerintah Dukung Generasi Muda dan Talenta In...   \n",
       "4             None  Selain Ciptakan Suasana Kooperatif, Ini Cara L...   \n",
       "5             None  Berbuka dengan Es Teh Manis Sebaiknya Dihindar...   \n",
       "6             None  Komnas Perempuan Ajukan 6 Tuntutan untuk Lindu...   \n",
       "7             None  Anak Suka Susah Tidur Malam? Begini Cara Membi...   \n",
       "8  \\nLiga Italia\\n  HASIL Crotone vs Inter Milan Liga Italia Babak...   \n",
       "9       \\nMotoGP\\n  SIARAN LANGSUNG RACE MotoGP Spanyol 2021: Fabi...   \n",
       "\n",
       "                                             content  \\\n",
       "0  [  , Parapuan.co – Kawan Puan, kapan terakhir ...   \n",
       "1  [  , Parapuan.co – Beberapa waktu belakangan, ...   \n",
       "2  [  , Parapuan.co - Vitamin D dalam tubuh berpe...   \n",
       "3  [  , Parapuan.co - Pandemi yang telah terjadi ...   \n",
       "4  [  , Parapuan.co – Kawan Puan, ketika kamu mem...   \n",
       "5  [  , Parapuan.co – Kawan Puan, apakah minuman ...   \n",
       "6  [  , Parapuan.co - Peringatan Hari Buruh Inter...   \n",
       "7  [  , Parapuan.co – Kawan Puan, apakah kamu ser...   \n",
       "8  [TRIBUNNEWS.COM - Hasil babak pertama Crotone ...   \n",
       "9  [TRIBUNNEWS.COM - Siaran langsung race MotoGP ...   \n",
       "\n",
       "                                                tags  \\\n",
       "0            [rice cooker, membersihkan rice cooker]   \n",
       "1  [India, Priyanka Chopra, Nick Jonas, Covid-19 ...   \n",
       "2  [vitamin, vitamin D, rambut rontok, mudah lela...   \n",
       "3              [Agnezmo, Industri hiburan, Eventori]   \n",
       "4  [anak, pertengkaran anak, mencegah pertengkara...   \n",
       "5       [Es Teh Manis, minum es teh saat buka puasa]   \n",
       "6  [buruh, May Day, Hari Buruh Internasional, pek...   \n",
       "7  [anak tidur, tidur malam, membiasakan anak tid...   \n",
       "8  [Hasil Crotone vs Inter Milan, Crotone vs Inte...   \n",
       "9  [SIARAN LANGSUNG RACE MotoGP Spanyol 2021, Mot...   \n",
       "\n",
       "                                       related_topic  \n",
       "0            {rice cooker, membersihkan rice cooker}  \n",
       "1  {Nick Jonas, Covid-19 di India, Priyanka Chopr...  \n",
       "2  {vitamin D, tanda tubuh kekurangan vitamin d, ...  \n",
       "3              {Agnezmo, Eventori, Industri hiburan}  \n",
       "4  {pertengkaran anak, anak, mencegah pertengkara...  \n",
       "5       {Es Teh Manis, minum es teh saat buka puasa}  \n",
       "6  {Komnas Perempuan, pekerja perempuan, Hari Bur...  \n",
       "7  {membiasakan anak tidur tanpa drama, anak tidu...  \n",
       "8  {Liga Italia, Stefano Sensi, Inter Milan, Nera...  \n",
       "9  {MotoGP, Fabio Quartararo, MotoGP Spanyol 2021...  "
      ]
     },
     "execution_count": 13,
     "metadata": {},
     "output_type": "execute_result"
    }
   ],
   "source": [
    "def join_topic_and_tag(row):\n",
    "    if row['topic']:\n",
    "        row['tags'].append(row['topic'].strip())\n",
    "    \n",
    "    return set(row['tags'])\n",
    "    \n",
    "tribun['related_topic'] = tribun[['topic', 'tags']].apply(join_topic_and_tag, axis=1)\n",
    "tribun.head(10)"
   ]
  },
  {
   "cell_type": "code",
   "execution_count": 14,
   "metadata": {},
   "outputs": [
    {
     "data": {
      "text/plain": [
       "{'Crotone',\n",
       " 'Crotone vs Inter Milan',\n",
       " 'Hasil Crotone vs Inter Milan',\n",
       " 'Inter Milan',\n",
       " 'Liga Italia',\n",
       " 'Live Streaming Crotone vs Inter Milan',\n",
       " 'Nerazzurri',\n",
       " 'Romelu Lukaku',\n",
       " 'Stefano Sensi'}"
      ]
     },
     "execution_count": 14,
     "metadata": {},
     "output_type": "execute_result"
    }
   ],
   "source": [
    "# sanity check\n",
    "tribun.loc[8, 'related_topic']"
   ]
  },
  {
   "cell_type": "code",
   "execution_count": 15,
   "metadata": {},
   "outputs": [],
   "source": [
    "# drop joined columns\n",
    "tribun.drop(columns=['topic', 'tags'], inplace=True)"
   ]
  },
  {
   "cell_type": "code",
   "execution_count": 16,
   "metadata": {},
   "outputs": [
    {
     "data": {
      "text/html": [
       "<div>\n",
       "<style scoped>\n",
       "    .dataframe tbody tr th:only-of-type {\n",
       "        vertical-align: middle;\n",
       "    }\n",
       "\n",
       "    .dataframe tbody tr th {\n",
       "        vertical-align: top;\n",
       "    }\n",
       "\n",
       "    .dataframe thead th {\n",
       "        text-align: right;\n",
       "    }\n",
       "</style>\n",
       "<table border=\"1\" class=\"dataframe\">\n",
       "  <thead>\n",
       "    <tr style=\"text-align: right;\">\n",
       "      <th></th>\n",
       "      <th>title</th>\n",
       "      <th>content</th>\n",
       "      <th>related_topic</th>\n",
       "    </tr>\n",
       "  </thead>\n",
       "  <tbody>\n",
       "    <tr>\n",
       "      <td>0</td>\n",
       "      <td>Kapan Waktu Terbaik Bersihkan Rice Cooker? Ber...</td>\n",
       "      <td>[  , Parapuan.co – Kawan Puan, kapan terakhir ...</td>\n",
       "      <td>{rice cooker, membersihkan rice cooker}</td>\n",
       "    </tr>\n",
       "  </tbody>\n",
       "</table>\n",
       "</div>"
      ],
      "text/plain": [
       "                                               title  \\\n",
       "0  Kapan Waktu Terbaik Bersihkan Rice Cooker? Ber...   \n",
       "\n",
       "                                             content  \\\n",
       "0  [  , Parapuan.co – Kawan Puan, kapan terakhir ...   \n",
       "\n",
       "                             related_topic  \n",
       "0  {rice cooker, membersihkan rice cooker}  "
      ]
     },
     "execution_count": 16,
     "metadata": {},
     "output_type": "execute_result"
    }
   ],
   "source": [
    "tribun.head(1)"
   ]
  },
  {
   "cell_type": "markdown",
   "metadata": {},
   "source": [
    "---"
   ]
  },
  {
   "cell_type": "markdown",
   "metadata": {},
   "source": [
    "##### Cleaning content of CNN and Tribun"
   ]
  },
  {
   "cell_type": "code",
   "execution_count": 17,
   "metadata": {
    "scrolled": true
   },
   "outputs": [
    {
     "data": {
      "text/plain": [
       "['Aksi unjuk rasa memperingati Hari Buruh Internasional (May Day) di Medan, Sumatera\\xa0Utara, berujung pada penangkapan 14 massa yang tergabung dari\\xa0 Aliansi Rakyat Melawan Hancurkan Tirani\\xa0oleh personel\\xa0Polrestabes Medan, Sabtu (1/5).',\n",
       " 'Kepala Divisi Buruh dan Miskin Kota Lembaga Bantuan Hukum (LBH) Medan, Maswan Tambak merinci 14 orang yang ditangkap polisi tersebut terdiri dari 7 orang perempuan dan 7 laki-laki.',\n",
       " 'Penangkapan berawal saat massa yang berjumlah belasan orang melakukan aksi di Jalan Djuanda Medan. Setelah menyampaikan aspirasinya, tiba-tiba saja aparat kepolisian mengamankan 14 orang itu.',\n",
       " 'Menurut Maswan tindakan refresif yang dilakukan aparat kepolisian tak punya dasar. Sebab aksi unjuk rasa itu berlangsung damai.',\n",
       " '',\n",
       " 'Selain itu, sambungnya, para peserta aksi juga\\xa0tak melanggar protokol kesehatan Covid-19.',\n",
       " '\"Menurut keterangan kawan-kawan di lapangan mereka tidak ada chaos. Tiba tiba aja mereka langsung diangkut. Kita sudah tanyakan alasan penangkapan ke Polrestabes Medan. Tapi polisi tidak bisa jawab alasan ke-14 orang ini ditangkap. Makanya kita bingung,\" kata Maswan kepada CNNIndonesia.com, Sabtu malam.',\n",
       " '\"Pascaperubahan slogan Promotor ke Presisi, ternyata polisi sama saja. Kami mendesak Kapolri untuk mengevaluasi jajarannya. Kami paham tugas polisi adalah melakukan pengamanan. Tapi polisi harus paham, rakyat juga hanya ingin menyuarakan aspirasinya,\" ujar Maswan.',\n",
       " 'Tak hanya ditangkap, massa dari Aliansi Akumulasi Kemarahan Buruh dan Rakyat (AKBAR) Sumut di Kota Medan juga diduga mendapatkan intimidasi dari oknum aparat. Aksi yang awalnya direncanakan digelar di Tugu Titik Nol Kota Medan itu harus bergeser ke Bundaran Jalan Gatot Subroto.',\n",
       " '\"Ada polisi yang kemudian merekam massa dengan mendekatkan ponselnya ke wajah massa perempuan. Ini sungguh tidak etis, dan kami anggap ancaman. Tindakan oknum kepolisian ini tidak boleh diwajarkan,\" ucap Founder Perempuan Hari Ini (PHI), Lusty Ro Manna Malau.',\n",
       " 'Intimidasi ini terjadi saat massa yang mayoritas perempuan berkumpul untuk menunggu yang lainnya datang. Bahkan kata Lusty, tindakan intimidasi itu juga mengarah pada pelecehan seksual.',\n",
       " '\"Ada beberapa massa perempuan juga digodain\\xa0\\'main mata juga samaku\\', kemudian ada yang mengeluarkan lidah. Ini adalah bentuk pelecehan kepada kami. Massa perempuan juga mendapat kata-kata seksis dari sejumlah oknum,\" urainya.',\n",
       " 'Hingga saat ini belum ada klarifikasi resmi dari aparat kepolisian mengenai penangkapan serta tudingan-tudingan lain dari peserta aksi May Day di Medan. Kapolrestabes Medan, Kombes Pol Riko Sunarko yang dikonfirmasi CNNIndonesia.com\\xa0belum merespons hingga berita ini ditulis',\n",
       " \"Di sisi lain, sejumlah kelompok buruh memilih merayakan Mayday 2021 bersama Gubernur Sumatera Utara, Edy Rahmayadi. Dalam kegiatan itu, sejumlah serikat buruh, pengusaha dan Gubernur Edy Rahmayadi terlibat di dalam kegiatan sosial serta pencabutan undian 'lucky draw'.\",\n",
       " '\"Saya ini meskipun di satu sisi sebagai penguasa karena saya gubernur tapi saya juga adalah bagian dari rakyat Sumatera Utara. Sama seperti kalian. Jadi saya ingin kalian juga ikut memberikan sumbangsih pikiran dan saran untuk Sumatera Utara yang kita cintai, \" ungkap Edy.',\n",
       " 'Edy meminta momen peringatan Mayday dibuat tidak hanya sekedar unjuk rasa di jalan. Dia ingin berfokus pada dialog atau seminar yang bertemakan soal peningkatan skill, keahlian serta sumberdaya manusia (SDM) para buruh termasuk juga aturan terkait penyelesaian hubungan sengketa antara buruh dan pengusaha yang harus punya aturan dan jalan keluar yang jelas.']"
      ]
     },
     "execution_count": 17,
     "metadata": {},
     "output_type": "execute_result"
    }
   ],
   "source": [
    "# CNN\n",
    "cnn.loc[0, 'content']"
   ]
  },
  {
   "cell_type": "code",
   "execution_count": 18,
   "metadata": {},
   "outputs": [],
   "source": [
    "# 1) parse the lists, continue on empty string '' and space (str.isspace); @cnn[0][4], tribun[0][0]\n",
    "# 2) clean nonempty string by replacing '\\xa0' and '\\xa0 ' with ' ' (space)\n",
    "# 3) strip the string of single and double quotes (' and \") // should ' and \" be removed though?\n",
    "# 4) join the string together"
   ]
  },
  {
   "cell_type": "code",
   "execution_count": 19,
   "metadata": {},
   "outputs": [],
   "source": [
    "cnn_samples = cnn.loc[0, 'content'].copy()"
   ]
  },
  {
   "cell_type": "code",
   "execution_count": 20,
   "metadata": {
    "scrolled": true
   },
   "outputs": [
    {
     "data": {
      "text/plain": [
       "'Aksi unjuk rasa memperingati Hari Buruh Internasional (May Day) di Medan, Sumatera Utara, berujung pada penangkapan 14 massa yang tergabung dari  Aliansi Rakyat Melawan Hancurkan Tirani oleh personel Polrestabes Medan, Sabtu (1/5). Kepala Divisi Buruh dan Miskin Kota Lembaga Bantuan Hukum (LBH) Medan, Maswan Tambak merinci 14 orang yang ditangkap polisi tersebut terdiri dari 7 orang perempuan dan 7 laki-laki. Penangkapan berawal saat massa yang berjumlah belasan orang melakukan aksi di Jalan Djuanda Medan. Setelah menyampaikan aspirasinya, tiba-tiba saja aparat kepolisian mengamankan 14 orang itu. Menurut Maswan tindakan refresif yang dilakukan aparat kepolisian tak punya dasar. Sebab aksi unjuk rasa itu berlangsung damai. Selain itu, sambungnya, para peserta aksi juga tak melanggar protokol kesehatan Covid-19. \"Menurut keterangan kawan-kawan di lapangan mereka tidak ada chaos. Tiba tiba aja mereka langsung diangkut. Kita sudah tanyakan alasan penangkapan ke Polrestabes Medan. Tapi polisi tidak bisa jawab alasan ke-14 orang ini ditangkap. Makanya kita bingung,\" kata Maswan kepada CNNIndonesia.com, Sabtu malam. \"Pascaperubahan slogan Promotor ke Presisi, ternyata polisi sama saja. Kami mendesak Kapolri untuk mengevaluasi jajarannya. Kami paham tugas polisi adalah melakukan pengamanan. Tapi polisi harus paham, rakyat juga hanya ingin menyuarakan aspirasinya,\" ujar Maswan. Tak hanya ditangkap, massa dari Aliansi Akumulasi Kemarahan Buruh dan Rakyat (AKBAR) Sumut di Kota Medan juga diduga mendapatkan intimidasi dari oknum aparat. Aksi yang awalnya direncanakan digelar di Tugu Titik Nol Kota Medan itu harus bergeser ke Bundaran Jalan Gatot Subroto. \"Ada polisi yang kemudian merekam massa dengan mendekatkan ponselnya ke wajah massa perempuan. Ini sungguh tidak etis, dan kami anggap ancaman. Tindakan oknum kepolisian ini tidak boleh diwajarkan,\" ucap Founder Perempuan Hari Ini (PHI), Lusty Ro Manna Malau. Intimidasi ini terjadi saat massa yang mayoritas perempuan berkumpul untuk menunggu yang lainnya datang. Bahkan kata Lusty, tindakan intimidasi itu juga mengarah pada pelecehan seksual. \"Ada beberapa massa perempuan juga digodain \\'main mata juga samaku\\', kemudian ada yang mengeluarkan lidah. Ini adalah bentuk pelecehan kepada kami. Massa perempuan juga mendapat kata-kata seksis dari sejumlah oknum,\" urainya. Hingga saat ini belum ada klarifikasi resmi dari aparat kepolisian mengenai penangkapan serta tudingan-tudingan lain dari peserta aksi May Day di Medan. Kapolrestabes Medan, Kombes Pol Riko Sunarko yang dikonfirmasi CNNIndonesia.com belum merespons hingga berita ini ditulis Di sisi lain, sejumlah kelompok buruh memilih merayakan Mayday 2021 bersama Gubernur Sumatera Utara, Edy Rahmayadi. Dalam kegiatan itu, sejumlah serikat buruh, pengusaha dan Gubernur Edy Rahmayadi terlibat di dalam kegiatan sosial serta pencabutan undian \\'lucky draw\\'. \"Saya ini meskipun di satu sisi sebagai penguasa karena saya gubernur tapi saya juga adalah bagian dari rakyat Sumatera Utara. Sama seperti kalian. Jadi saya ingin kalian juga ikut memberikan sumbangsih pikiran dan saran untuk Sumatera Utara yang kita cintai, \" ungkap Edy. Edy meminta momen peringatan Mayday dibuat tidak hanya sekedar unjuk rasa di jalan. Dia ingin berfokus pada dialog atau seminar yang bertemakan soal peningkatan skill, keahlian serta sumberdaya manusia (SDM) para buruh termasuk juga aturan terkait penyelesaian hubungan sengketa antara buruh dan pengusaha yang harus punya aturan dan jalan keluar yang jelas.'"
      ]
     },
     "execution_count": 20,
     "metadata": {},
     "output_type": "execute_result"
    }
   ],
   "source": [
    "# replace in one pass\n",
    "# https://stackoverflow.com/a/6117124/8996974\n",
    "# https://youtu.be/c9HbsUSWilw\n",
    "\n",
    "# doubt on (3)\n",
    "# rep = {'\\xa0': ' ', '\\xa0 ': ' ', '\"': '', \"'\": ''}\n",
    "\n",
    "rep = {'\\xa0': ' ', '\\xa0 ': ' '}\n",
    "rep = dict((re.escape(k), v) for k, v in rep.items()) \n",
    "pattern = re.compile(\"|\".join(rep.keys()))\n",
    "\n",
    "def clean_cnn_content(content):\n",
    "    new_content = []\n",
    "    \n",
    "    for sentence in content:\n",
    "        if not sentence or sentence.isspace():  # 1\n",
    "            continue\n",
    "        \n",
    "        sentence = pattern.sub(lambda m: rep[re.escape(m.group(0))], sentence)  # 2\n",
    "        new_content.append(sentence.strip())  # strip uneven beginning or ending space\n",
    "    \n",
    "    return ' '.join(new_content)  # 4\n",
    "\n",
    "# try it\n",
    "clean_cnn_content(cnn_samples)"
   ]
  },
  {
   "cell_type": "code",
   "execution_count": 21,
   "metadata": {
    "scrolled": true
   },
   "outputs": [
    {
     "data": {
      "text/plain": [
       "['  ',\n",
       " 'Parapuan.co - Vitamin D dalam tubuh berperan penting dalam menjaga kesehatannya.',\n",
       " 'Tidak hanya untuk tulang, vitamin D pun menjaga rambut kita agar tetap sehat dan kuat.',\n",
       " 'Penelitian membuktikan bahwa vitamin D memiliki peran untuk mengatur regulasi hormon, menjaga kesehatan tulang, dan menjaga sistem kekebalan kita tetap kuat.',\n",
       " 'Oleh karena itu, kita harus selalu mencukupi kebutuhan vitamin D dalam tubuh. Cara yang paling mudah adalah dengan berjemur di pagi hari.',\n",
       " 'Paparan sinar matahari pagi bagus untuk menambah asupan vitamin D di dalam tubuh.',\n",
       " 'Kamu bisa beraktivitas di bawah sinar matahari saat pagi hari selama 15-30 menit. Sinar matahari pagi ini lebih bagus dan masih aman untuk kulit dibanding saat sudah terik siang hari.',\n",
       " 'Selain dari sinar matahari, kamu bisa mendapat vitamin D dari ikan, susu, dan telur.',\n",
       " 'Saat tubuh kekurangan vitamin D, maka efeknya akan sangat terasa. Gejala yang muncul pun bisa dengan mudah dideteksi.',\n",
       " 'Melansir dari Byrdie, berikut tanda tubuh kekurangan vitamin D:',\n",
       " 'Nyeri otot',\n",
       " 'Beberapa penelitian menunjukkan bahwa kekurangan vitamin D menyebabkan nyeri dan kelemahan otot. ',\n",
       " 'Jika kamu kerap mengalami nyeri otot dan curiga itu karena vitamin D, ada baiknya konsultasikan hal tersebut pada dokter.',\n",
       " 'Nyeri tulang',\n",
       " 'Vitamin D telah lama dihubungkan dengan kesehatan tulang. Hal ini benar karena vitamin D membantu tubuh menyerap kalsium. ',\n",
       " 'Alana Kessler, seorang ahli diet terdaftar dan pendiri Be Well by AK, menyampaikan betapa pentingnya vitamin D di dalam tubuh.',\n",
       " '\"Vitamin D bertindak sebagai enzim untuk memindahkan kalsium ke tulang. Tanpa vitamin D yang cukup, kelenjar paratiroid akan mengambil kalsium dari tulang karena tubuh tidak dapat melakukan metabolisme dengan baik tanpanya,\" jelas Alana. ',\n",
       " 'Rambut rontok',\n",
       " 'Taylor Engelke, seorang ahli gizi dan diet menambahkan bahwa tanda tubuh kekurangan vitamin D adalah rontoknya rambut. ',\n",
       " '\"Kadar vitamin D yang rendah telah dikaitkan dengan rambut rontok dan perlambatan pertumbuhan rambut karena folikel terhambat,\" jelasnya.',\n",
       " 'Hal ini dikarenakan vitamin D dimetabolisme di kulit oleh sel yang disebut keratinosit, sebuah sel yang menghasilkan keratin untuk menjaga kesehatan rambut kita.',\n",
       " 'Ketika tubuh tidak mendapatkan vitamin D, keratinosit akan kesulitan memfasilitasi pertumbuhan rambut dan kamu pun mengalami kerontokan.',\n",
       " 'Mudah lelah',\n",
       " 'Berikutnya, tubuh yang kekurangan vitamin D akan merasa mudah lelah. Hal ini akan kamu rasakan ketika aktif beraktivitas. ',\n",
       " 'Contohnya saja untuk bepergian, bekerja, membersihkan rumah, dan lain sebagainya. Dalam kondisi yang parah, kamu bahkan mudah lelah meski hanya melakukan aktivitas ringan.',\n",
       " 'Gampang jatuh sakit',\n",
       " 'Vitamin D berperan dalam menjaga kekebalan tubuh. Makanya orang yang kekurangan vitamin D bakal lebih mudah jatuh sakit. ',\n",
       " 'Hal ini dikarenakan sistem kekebalan tubuhnya yang tak cukup kuat. Di samping itu, seseorang yang kekurangan vitamin D juga lebih mudah terinfeksi oleh virus.',\n",
       " 'Mengingat fungsi vitamin D yang amat penting untuk tubuh, jangan lupa untuk mengonsumsi makanan dengan kandungan vitamin ini dalam menu makan harian, ya! (*)']"
      ]
     },
     "execution_count": 21,
     "metadata": {},
     "output_type": "execute_result"
    }
   ],
   "source": [
    "# Tribun\n",
    "tribun_samples = tribun.loc[2, 'content'].copy()\n",
    "tribun_samples"
   ]
  },
  {
   "cell_type": "code",
   "execution_count": 22,
   "metadata": {
    "scrolled": true
   },
   "outputs": [
    {
     "data": {
      "text/plain": [
       "'Parapuan.co - Vitamin D dalam tubuh berperan penting dalam menjaga kesehatannya. Tidak hanya untuk tulang, vitamin D pun menjaga rambut kita agar tetap sehat dan kuat. Penelitian membuktikan bahwa vitamin D memiliki peran untuk mengatur regulasi hormon, menjaga kesehatan tulang, dan menjaga sistem kekebalan kita tetap kuat. Oleh karena itu, kita harus selalu mencukupi kebutuhan vitamin D dalam tubuh. Cara yang paling mudah adalah dengan berjemur di pagi hari. Paparan sinar matahari pagi bagus untuk menambah asupan vitamin D di dalam tubuh. Kamu bisa beraktivitas di bawah sinar matahari saat pagi hari selama 15-30 menit. Sinar matahari pagi ini lebih bagus dan masih aman untuk kulit dibanding saat sudah terik siang hari. Selain dari sinar matahari, kamu bisa mendapat vitamin D dari ikan, susu, dan telur. Saat tubuh kekurangan vitamin D, maka efeknya akan sangat terasa. Gejala yang muncul pun bisa dengan mudah dideteksi. Melansir dari Byrdie, berikut tanda tubuh kekurangan vitamin D: Nyeri otot Beberapa penelitian menunjukkan bahwa kekurangan vitamin D menyebabkan nyeri dan kelemahan otot. Jika kamu kerap mengalami nyeri otot dan curiga itu karena vitamin D, ada baiknya konsultasikan hal tersebut pada dokter. Nyeri tulang Vitamin D telah lama dihubungkan dengan kesehatan tulang. Hal ini benar karena vitamin D membantu tubuh menyerap kalsium. Alana Kessler, seorang ahli diet terdaftar dan pendiri Be Well by AK, menyampaikan betapa pentingnya vitamin D di dalam tubuh. \"Vitamin D bertindak sebagai enzim untuk memindahkan kalsium ke tulang. Tanpa vitamin D yang cukup, kelenjar paratiroid akan mengambil kalsium dari tulang karena tubuh tidak dapat melakukan metabolisme dengan baik tanpanya,\" jelas Alana. Rambut rontok Taylor Engelke, seorang ahli gizi dan diet menambahkan bahwa tanda tubuh kekurangan vitamin D adalah rontoknya rambut. \"Kadar vitamin D yang rendah telah dikaitkan dengan rambut rontok dan perlambatan pertumbuhan rambut karena folikel terhambat,\" jelasnya. Hal ini dikarenakan vitamin D dimetabolisme di kulit oleh sel yang disebut keratinosit, sebuah sel yang menghasilkan keratin untuk menjaga kesehatan rambut kita. Ketika tubuh tidak mendapatkan vitamin D, keratinosit akan kesulitan memfasilitasi pertumbuhan rambut dan kamu pun mengalami kerontokan. Mudah lelah Berikutnya, tubuh yang kekurangan vitamin D akan merasa mudah lelah. Hal ini akan kamu rasakan ketika aktif beraktivitas. Contohnya saja untuk bepergian, bekerja, membersihkan rumah, dan lain sebagainya. Dalam kondisi yang parah, kamu bahkan mudah lelah meski hanya melakukan aktivitas ringan. Gampang jatuh sakit Vitamin D berperan dalam menjaga kekebalan tubuh. Makanya orang yang kekurangan vitamin D bakal lebih mudah jatuh sakit. Hal ini dikarenakan sistem kekebalan tubuhnya yang tak cukup kuat. Di samping itu, seseorang yang kekurangan vitamin D juga lebih mudah terinfeksi oleh virus. Mengingat fungsi vitamin D yang amat penting untuk tubuh, jangan lupa untuk mengonsumsi makanan dengan kandungan vitamin ini dalam menu makan harian, ya! (*)'"
      ]
     },
     "execution_count": 22,
     "metadata": {},
     "output_type": "execute_result"
    }
   ],
   "source": [
    "def clean_tribun_content(content):\n",
    "    new_content = []\n",
    "    \n",
    "    for sentence in content:\n",
    "        if not sentence or sentence.isspace():  # 1\n",
    "            continue        \n",
    "        new_content.append(sentence.strip())  # strip uneven beginning or ending space\n",
    "    \n",
    "    return ' '.join(new_content)  # 4\n",
    "\n",
    "# try it\n",
    "clean_tribun_content(tribun_samples)"
   ]
  },
  {
   "cell_type": "code",
   "execution_count": 23,
   "metadata": {},
   "outputs": [],
   "source": [
    "# apply the function\n",
    "cnn['content'] = cnn.content.apply(clean_cnn_content)\n",
    "tribun['content'] = tribun.content.apply(clean_tribun_content)"
   ]
  },
  {
   "cell_type": "code",
   "execution_count": null,
   "metadata": {},
   "outputs": [],
   "source": [
    "# sanity check\n",
    "# cnn.loc[0, 'content']\n",
    "# tribun.loc[2, 'content']"
   ]
  }
 ],
 "metadata": {
  "kernelspec": {
   "display_name": "Python 3",
   "language": "python",
   "name": "python3"
  },
  "language_info": {
   "codemirror_mode": {
    "name": "ipython",
    "version": 3
   },
   "file_extension": ".py",
   "mimetype": "text/x-python",
   "name": "python",
   "nbconvert_exporter": "python",
   "pygments_lexer": "ipython3",
   "version": "3.7.4"
  }
 },
 "nbformat": 4,
 "nbformat_minor": 2
}
